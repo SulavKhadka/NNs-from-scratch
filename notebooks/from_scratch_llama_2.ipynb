{
 "cells": [
  {
   "cell_type": "code",
   "execution_count": 1,
   "metadata": {},
   "outputs": [
    {
     "data": {
      "application/vnd.jupyter.widget-view+json": {
       "model_id": "21bf6207f87d4bfabacd4a711fd16360",
       "version_major": 2,
       "version_minor": 0
      },
      "text/plain": [
       "Loading checkpoint shards:   0%|          | 0/2 [00:00<?, ?it/s]"
      ]
     },
     "metadata": {},
     "output_type": "display_data"
    }
   ],
   "source": [
    "from transformers import AutoTokenizer, LlamaForCausalLM, LlamaConfig\n",
    "\n",
    "llama_causallm = LlamaForCausalLM.from_pretrained(\"NousResearch/Llama-2-7b-hf\")\n",
    "llamatok = AutoTokenizer.from_pretrained(\"NousResearch/Llama-2-7b-hf\")\n",
    "# llama_hf= AutoModel.from_pretrained(\"NousResearch/Llama-2-7b-hf\")\n",
    "config = LlamaConfig.from_pretrained(\"NousResearch/Llama-2-7b-hf\")"
   ]
  },
  {
   "cell_type": "code",
   "execution_count": 2,
   "metadata": {},
   "outputs": [
    {
     "data": {
      "text/plain": [
       "LlamaConfig {\n",
       "  \"architectures\": [\n",
       "    \"LlamaForCausalLM\"\n",
       "  ],\n",
       "  \"attention_bias\": false,\n",
       "  \"attention_dropout\": 0.0,\n",
       "  \"bos_token_id\": 1,\n",
       "  \"eos_token_id\": 2,\n",
       "  \"hidden_act\": \"silu\",\n",
       "  \"hidden_size\": 4096,\n",
       "  \"initializer_range\": 0.02,\n",
       "  \"intermediate_size\": 11008,\n",
       "  \"max_position_embeddings\": 4096,\n",
       "  \"mlp_bias\": false,\n",
       "  \"model_type\": \"llama\",\n",
       "  \"num_attention_heads\": 32,\n",
       "  \"num_hidden_layers\": 32,\n",
       "  \"num_key_value_heads\": 32,\n",
       "  \"pad_token_id\": 0,\n",
       "  \"pretraining_tp\": 1,\n",
       "  \"rms_norm_eps\": 1e-05,\n",
       "  \"rope_scaling\": null,\n",
       "  \"rope_theta\": 10000.0,\n",
       "  \"tie_word_embeddings\": false,\n",
       "  \"torch_dtype\": \"float16\",\n",
       "  \"transformers_version\": \"4.42.4\",\n",
       "  \"use_cache\": true,\n",
       "  \"vocab_size\": 32000\n",
       "}"
      ]
     },
     "execution_count": 2,
     "metadata": {},
     "output_type": "execute_result"
    }
   ],
   "source": [
    "config"
   ]
  },
  {
   "cell_type": "code",
   "execution_count": 2,
   "metadata": {},
   "outputs": [
    {
     "name": "stdout",
     "output_type": "stream",
     "text": [
      "embed_tokens.weight torch.Size([32000, 4096])\n",
      "layers.0.self_attn.q_proj.weight torch.Size([4096, 4096])\n",
      "layers.0.self_attn.k_proj.weight torch.Size([4096, 4096])\n",
      "layers.0.self_attn.v_proj.weight torch.Size([4096, 4096])\n",
      "layers.0.self_attn.o_proj.weight torch.Size([4096, 4096])\n",
      "layers.0.mlp.gate_proj.weight torch.Size([11008, 4096])\n",
      "layers.0.mlp.up_proj.weight torch.Size([11008, 4096])\n",
      "layers.0.mlp.down_proj.weight torch.Size([4096, 11008])\n",
      "layers.0.input_layernorm.weight torch.Size([4096])\n",
      "layers.0.post_attention_layernorm.weight torch.Size([4096])\n",
      "layers.1.self_attn.q_proj.weight torch.Size([4096, 4096])\n",
      "layers.1.self_attn.k_proj.weight torch.Size([4096, 4096])\n",
      "layers.1.self_attn.v_proj.weight torch.Size([4096, 4096])\n",
      "layers.1.self_attn.o_proj.weight torch.Size([4096, 4096])\n",
      "layers.1.mlp.gate_proj.weight torch.Size([11008, 4096])\n",
      "layers.1.mlp.up_proj.weight torch.Size([11008, 4096])\n",
      "layers.1.mlp.down_proj.weight torch.Size([4096, 11008])\n",
      "layers.1.input_layernorm.weight torch.Size([4096])\n",
      "layers.1.post_attention_layernorm.weight torch.Size([4096])\n",
      "layers.2.self_attn.q_proj.weight torch.Size([4096, 4096])\n",
      "layers.2.self_attn.k_proj.weight torch.Size([4096, 4096])\n",
      "layers.2.self_attn.v_proj.weight torch.Size([4096, 4096])\n",
      "layers.2.self_attn.o_proj.weight torch.Size([4096, 4096])\n",
      "layers.2.mlp.gate_proj.weight torch.Size([11008, 4096])\n",
      "layers.2.mlp.up_proj.weight torch.Size([11008, 4096])\n",
      "layers.2.mlp.down_proj.weight torch.Size([4096, 11008])\n",
      "layers.2.input_layernorm.weight torch.Size([4096])\n",
      "layers.2.post_attention_layernorm.weight torch.Size([4096])\n",
      "layers.3.self_attn.q_proj.weight torch.Size([4096, 4096])\n",
      "layers.3.self_attn.k_proj.weight torch.Size([4096, 4096])\n",
      "layers.3.self_attn.v_proj.weight torch.Size([4096, 4096])\n",
      "layers.3.self_attn.o_proj.weight torch.Size([4096, 4096])\n",
      "layers.3.mlp.gate_proj.weight torch.Size([11008, 4096])\n",
      "layers.3.mlp.up_proj.weight torch.Size([11008, 4096])\n",
      "layers.3.mlp.down_proj.weight torch.Size([4096, 11008])\n",
      "layers.3.input_layernorm.weight torch.Size([4096])\n",
      "layers.3.post_attention_layernorm.weight torch.Size([4096])\n",
      "layers.4.self_attn.q_proj.weight torch.Size([4096, 4096])\n",
      "layers.4.self_attn.k_proj.weight torch.Size([4096, 4096])\n",
      "layers.4.self_attn.v_proj.weight torch.Size([4096, 4096])\n",
      "layers.4.self_attn.o_proj.weight torch.Size([4096, 4096])\n",
      "layers.4.mlp.gate_proj.weight torch.Size([11008, 4096])\n",
      "layers.4.mlp.up_proj.weight torch.Size([11008, 4096])\n",
      "layers.4.mlp.down_proj.weight torch.Size([4096, 11008])\n",
      "layers.4.input_layernorm.weight torch.Size([4096])\n",
      "layers.4.post_attention_layernorm.weight torch.Size([4096])\n",
      "layers.5.self_attn.q_proj.weight torch.Size([4096, 4096])\n",
      "layers.5.self_attn.k_proj.weight torch.Size([4096, 4096])\n",
      "layers.5.self_attn.v_proj.weight torch.Size([4096, 4096])\n",
      "layers.5.self_attn.o_proj.weight torch.Size([4096, 4096])\n",
      "layers.5.mlp.gate_proj.weight torch.Size([11008, 4096])\n",
      "layers.5.mlp.up_proj.weight torch.Size([11008, 4096])\n",
      "layers.5.mlp.down_proj.weight torch.Size([4096, 11008])\n",
      "layers.5.input_layernorm.weight torch.Size([4096])\n",
      "layers.5.post_attention_layernorm.weight torch.Size([4096])\n",
      "layers.6.self_attn.q_proj.weight torch.Size([4096, 4096])\n",
      "layers.6.self_attn.k_proj.weight torch.Size([4096, 4096])\n",
      "layers.6.self_attn.v_proj.weight torch.Size([4096, 4096])\n",
      "layers.6.self_attn.o_proj.weight torch.Size([4096, 4096])\n",
      "layers.6.mlp.gate_proj.weight torch.Size([11008, 4096])\n",
      "layers.6.mlp.up_proj.weight torch.Size([11008, 4096])\n",
      "layers.6.mlp.down_proj.weight torch.Size([4096, 11008])\n",
      "layers.6.input_layernorm.weight torch.Size([4096])\n",
      "layers.6.post_attention_layernorm.weight torch.Size([4096])\n",
      "layers.7.self_attn.q_proj.weight torch.Size([4096, 4096])\n",
      "layers.7.self_attn.k_proj.weight torch.Size([4096, 4096])\n",
      "layers.7.self_attn.v_proj.weight torch.Size([4096, 4096])\n",
      "layers.7.self_attn.o_proj.weight torch.Size([4096, 4096])\n",
      "layers.7.mlp.gate_proj.weight torch.Size([11008, 4096])\n",
      "layers.7.mlp.up_proj.weight torch.Size([11008, 4096])\n",
      "layers.7.mlp.down_proj.weight torch.Size([4096, 11008])\n",
      "layers.7.input_layernorm.weight torch.Size([4096])\n",
      "layers.7.post_attention_layernorm.weight torch.Size([4096])\n",
      "layers.8.self_attn.q_proj.weight torch.Size([4096, 4096])\n",
      "layers.8.self_attn.k_proj.weight torch.Size([4096, 4096])\n",
      "layers.8.self_attn.v_proj.weight torch.Size([4096, 4096])\n",
      "layers.8.self_attn.o_proj.weight torch.Size([4096, 4096])\n",
      "layers.8.mlp.gate_proj.weight torch.Size([11008, 4096])\n",
      "layers.8.mlp.up_proj.weight torch.Size([11008, 4096])\n",
      "layers.8.mlp.down_proj.weight torch.Size([4096, 11008])\n",
      "layers.8.input_layernorm.weight torch.Size([4096])\n",
      "layers.8.post_attention_layernorm.weight torch.Size([4096])\n",
      "layers.9.self_attn.q_proj.weight torch.Size([4096, 4096])\n",
      "layers.9.self_attn.k_proj.weight torch.Size([4096, 4096])\n",
      "layers.9.self_attn.v_proj.weight torch.Size([4096, 4096])\n",
      "layers.9.self_attn.o_proj.weight torch.Size([4096, 4096])\n",
      "layers.9.mlp.gate_proj.weight torch.Size([11008, 4096])\n",
      "layers.9.mlp.up_proj.weight torch.Size([11008, 4096])\n",
      "layers.9.mlp.down_proj.weight torch.Size([4096, 11008])\n",
      "layers.9.input_layernorm.weight torch.Size([4096])\n",
      "layers.9.post_attention_layernorm.weight torch.Size([4096])\n",
      "layers.10.self_attn.q_proj.weight torch.Size([4096, 4096])\n",
      "layers.10.self_attn.k_proj.weight torch.Size([4096, 4096])\n",
      "layers.10.self_attn.v_proj.weight torch.Size([4096, 4096])\n",
      "layers.10.self_attn.o_proj.weight torch.Size([4096, 4096])\n",
      "layers.10.mlp.gate_proj.weight torch.Size([11008, 4096])\n",
      "layers.10.mlp.up_proj.weight torch.Size([11008, 4096])\n",
      "layers.10.mlp.down_proj.weight torch.Size([4096, 11008])\n",
      "layers.10.input_layernorm.weight torch.Size([4096])\n",
      "layers.10.post_attention_layernorm.weight torch.Size([4096])\n",
      "layers.11.self_attn.q_proj.weight torch.Size([4096, 4096])\n",
      "layers.11.self_attn.k_proj.weight torch.Size([4096, 4096])\n",
      "layers.11.self_attn.v_proj.weight torch.Size([4096, 4096])\n",
      "layers.11.self_attn.o_proj.weight torch.Size([4096, 4096])\n",
      "layers.11.mlp.gate_proj.weight torch.Size([11008, 4096])\n",
      "layers.11.mlp.up_proj.weight torch.Size([11008, 4096])\n",
      "layers.11.mlp.down_proj.weight torch.Size([4096, 11008])\n",
      "layers.11.input_layernorm.weight torch.Size([4096])\n",
      "layers.11.post_attention_layernorm.weight torch.Size([4096])\n",
      "layers.12.self_attn.q_proj.weight torch.Size([4096, 4096])\n",
      "layers.12.self_attn.k_proj.weight torch.Size([4096, 4096])\n",
      "layers.12.self_attn.v_proj.weight torch.Size([4096, 4096])\n",
      "layers.12.self_attn.o_proj.weight torch.Size([4096, 4096])\n",
      "layers.12.mlp.gate_proj.weight torch.Size([11008, 4096])\n",
      "layers.12.mlp.up_proj.weight torch.Size([11008, 4096])\n",
      "layers.12.mlp.down_proj.weight torch.Size([4096, 11008])\n",
      "layers.12.input_layernorm.weight torch.Size([4096])\n",
      "layers.12.post_attention_layernorm.weight torch.Size([4096])\n",
      "layers.13.self_attn.q_proj.weight torch.Size([4096, 4096])\n",
      "layers.13.self_attn.k_proj.weight torch.Size([4096, 4096])\n",
      "layers.13.self_attn.v_proj.weight torch.Size([4096, 4096])\n",
      "layers.13.self_attn.o_proj.weight torch.Size([4096, 4096])\n",
      "layers.13.mlp.gate_proj.weight torch.Size([11008, 4096])\n",
      "layers.13.mlp.up_proj.weight torch.Size([11008, 4096])\n",
      "layers.13.mlp.down_proj.weight torch.Size([4096, 11008])\n",
      "layers.13.input_layernorm.weight torch.Size([4096])\n",
      "layers.13.post_attention_layernorm.weight torch.Size([4096])\n",
      "layers.14.self_attn.q_proj.weight torch.Size([4096, 4096])\n",
      "layers.14.self_attn.k_proj.weight torch.Size([4096, 4096])\n",
      "layers.14.self_attn.v_proj.weight torch.Size([4096, 4096])\n",
      "layers.14.self_attn.o_proj.weight torch.Size([4096, 4096])\n",
      "layers.14.mlp.gate_proj.weight torch.Size([11008, 4096])\n",
      "layers.14.mlp.up_proj.weight torch.Size([11008, 4096])\n",
      "layers.14.mlp.down_proj.weight torch.Size([4096, 11008])\n",
      "layers.14.input_layernorm.weight torch.Size([4096])\n",
      "layers.14.post_attention_layernorm.weight torch.Size([4096])\n",
      "layers.15.self_attn.q_proj.weight torch.Size([4096, 4096])\n",
      "layers.15.self_attn.k_proj.weight torch.Size([4096, 4096])\n",
      "layers.15.self_attn.v_proj.weight torch.Size([4096, 4096])\n",
      "layers.15.self_attn.o_proj.weight torch.Size([4096, 4096])\n",
      "layers.15.mlp.gate_proj.weight torch.Size([11008, 4096])\n",
      "layers.15.mlp.up_proj.weight torch.Size([11008, 4096])\n",
      "layers.15.mlp.down_proj.weight torch.Size([4096, 11008])\n",
      "layers.15.input_layernorm.weight torch.Size([4096])\n",
      "layers.15.post_attention_layernorm.weight torch.Size([4096])\n",
      "layers.16.self_attn.q_proj.weight torch.Size([4096, 4096])\n",
      "layers.16.self_attn.k_proj.weight torch.Size([4096, 4096])\n",
      "layers.16.self_attn.v_proj.weight torch.Size([4096, 4096])\n",
      "layers.16.self_attn.o_proj.weight torch.Size([4096, 4096])\n",
      "layers.16.mlp.gate_proj.weight torch.Size([11008, 4096])\n",
      "layers.16.mlp.up_proj.weight torch.Size([11008, 4096])\n",
      "layers.16.mlp.down_proj.weight torch.Size([4096, 11008])\n",
      "layers.16.input_layernorm.weight torch.Size([4096])\n",
      "layers.16.post_attention_layernorm.weight torch.Size([4096])\n",
      "layers.17.self_attn.q_proj.weight torch.Size([4096, 4096])\n",
      "layers.17.self_attn.k_proj.weight torch.Size([4096, 4096])\n",
      "layers.17.self_attn.v_proj.weight torch.Size([4096, 4096])\n",
      "layers.17.self_attn.o_proj.weight torch.Size([4096, 4096])\n",
      "layers.17.mlp.gate_proj.weight torch.Size([11008, 4096])\n",
      "layers.17.mlp.up_proj.weight torch.Size([11008, 4096])\n",
      "layers.17.mlp.down_proj.weight torch.Size([4096, 11008])\n",
      "layers.17.input_layernorm.weight torch.Size([4096])\n",
      "layers.17.post_attention_layernorm.weight torch.Size([4096])\n",
      "layers.18.self_attn.q_proj.weight torch.Size([4096, 4096])\n",
      "layers.18.self_attn.k_proj.weight torch.Size([4096, 4096])\n",
      "layers.18.self_attn.v_proj.weight torch.Size([4096, 4096])\n",
      "layers.18.self_attn.o_proj.weight torch.Size([4096, 4096])\n",
      "layers.18.mlp.gate_proj.weight torch.Size([11008, 4096])\n",
      "layers.18.mlp.up_proj.weight torch.Size([11008, 4096])\n",
      "layers.18.mlp.down_proj.weight torch.Size([4096, 11008])\n",
      "layers.18.input_layernorm.weight torch.Size([4096])\n",
      "layers.18.post_attention_layernorm.weight torch.Size([4096])\n",
      "layers.19.self_attn.q_proj.weight torch.Size([4096, 4096])\n",
      "layers.19.self_attn.k_proj.weight torch.Size([4096, 4096])\n",
      "layers.19.self_attn.v_proj.weight torch.Size([4096, 4096])\n",
      "layers.19.self_attn.o_proj.weight torch.Size([4096, 4096])\n",
      "layers.19.mlp.gate_proj.weight torch.Size([11008, 4096])\n",
      "layers.19.mlp.up_proj.weight torch.Size([11008, 4096])\n",
      "layers.19.mlp.down_proj.weight torch.Size([4096, 11008])\n",
      "layers.19.input_layernorm.weight torch.Size([4096])\n",
      "layers.19.post_attention_layernorm.weight torch.Size([4096])\n",
      "layers.20.self_attn.q_proj.weight torch.Size([4096, 4096])\n",
      "layers.20.self_attn.k_proj.weight torch.Size([4096, 4096])\n",
      "layers.20.self_attn.v_proj.weight torch.Size([4096, 4096])\n",
      "layers.20.self_attn.o_proj.weight torch.Size([4096, 4096])\n",
      "layers.20.mlp.gate_proj.weight torch.Size([11008, 4096])\n",
      "layers.20.mlp.up_proj.weight torch.Size([11008, 4096])\n",
      "layers.20.mlp.down_proj.weight torch.Size([4096, 11008])\n",
      "layers.20.input_layernorm.weight torch.Size([4096])\n",
      "layers.20.post_attention_layernorm.weight torch.Size([4096])\n",
      "layers.21.self_attn.q_proj.weight torch.Size([4096, 4096])\n",
      "layers.21.self_attn.k_proj.weight torch.Size([4096, 4096])\n",
      "layers.21.self_attn.v_proj.weight torch.Size([4096, 4096])\n",
      "layers.21.self_attn.o_proj.weight torch.Size([4096, 4096])\n",
      "layers.21.mlp.gate_proj.weight torch.Size([11008, 4096])\n",
      "layers.21.mlp.up_proj.weight torch.Size([11008, 4096])\n",
      "layers.21.mlp.down_proj.weight torch.Size([4096, 11008])\n",
      "layers.21.input_layernorm.weight torch.Size([4096])\n",
      "layers.21.post_attention_layernorm.weight torch.Size([4096])\n",
      "layers.22.self_attn.q_proj.weight torch.Size([4096, 4096])\n",
      "layers.22.self_attn.k_proj.weight torch.Size([4096, 4096])\n",
      "layers.22.self_attn.v_proj.weight torch.Size([4096, 4096])\n",
      "layers.22.self_attn.o_proj.weight torch.Size([4096, 4096])\n",
      "layers.22.mlp.gate_proj.weight torch.Size([11008, 4096])\n",
      "layers.22.mlp.up_proj.weight torch.Size([11008, 4096])\n",
      "layers.22.mlp.down_proj.weight torch.Size([4096, 11008])\n",
      "layers.22.input_layernorm.weight torch.Size([4096])\n",
      "layers.22.post_attention_layernorm.weight torch.Size([4096])\n",
      "layers.23.self_attn.q_proj.weight torch.Size([4096, 4096])\n",
      "layers.23.self_attn.k_proj.weight torch.Size([4096, 4096])\n",
      "layers.23.self_attn.v_proj.weight torch.Size([4096, 4096])\n",
      "layers.23.self_attn.o_proj.weight torch.Size([4096, 4096])\n",
      "layers.23.mlp.gate_proj.weight torch.Size([11008, 4096])\n",
      "layers.23.mlp.up_proj.weight torch.Size([11008, 4096])\n",
      "layers.23.mlp.down_proj.weight torch.Size([4096, 11008])\n",
      "layers.23.input_layernorm.weight torch.Size([4096])\n",
      "layers.23.post_attention_layernorm.weight torch.Size([4096])\n",
      "layers.24.self_attn.q_proj.weight torch.Size([4096, 4096])\n",
      "layers.24.self_attn.k_proj.weight torch.Size([4096, 4096])\n",
      "layers.24.self_attn.v_proj.weight torch.Size([4096, 4096])\n",
      "layers.24.self_attn.o_proj.weight torch.Size([4096, 4096])\n",
      "layers.24.mlp.gate_proj.weight torch.Size([11008, 4096])\n",
      "layers.24.mlp.up_proj.weight torch.Size([11008, 4096])\n",
      "layers.24.mlp.down_proj.weight torch.Size([4096, 11008])\n",
      "layers.24.input_layernorm.weight torch.Size([4096])\n",
      "layers.24.post_attention_layernorm.weight torch.Size([4096])\n",
      "layers.25.self_attn.q_proj.weight torch.Size([4096, 4096])\n",
      "layers.25.self_attn.k_proj.weight torch.Size([4096, 4096])\n",
      "layers.25.self_attn.v_proj.weight torch.Size([4096, 4096])\n",
      "layers.25.self_attn.o_proj.weight torch.Size([4096, 4096])\n",
      "layers.25.mlp.gate_proj.weight torch.Size([11008, 4096])\n",
      "layers.25.mlp.up_proj.weight torch.Size([11008, 4096])\n",
      "layers.25.mlp.down_proj.weight torch.Size([4096, 11008])\n",
      "layers.25.input_layernorm.weight torch.Size([4096])\n",
      "layers.25.post_attention_layernorm.weight torch.Size([4096])\n",
      "layers.26.self_attn.q_proj.weight torch.Size([4096, 4096])\n",
      "layers.26.self_attn.k_proj.weight torch.Size([4096, 4096])\n",
      "layers.26.self_attn.v_proj.weight torch.Size([4096, 4096])\n",
      "layers.26.self_attn.o_proj.weight torch.Size([4096, 4096])\n",
      "layers.26.mlp.gate_proj.weight torch.Size([11008, 4096])\n",
      "layers.26.mlp.up_proj.weight torch.Size([11008, 4096])\n",
      "layers.26.mlp.down_proj.weight torch.Size([4096, 11008])\n",
      "layers.26.input_layernorm.weight torch.Size([4096])\n",
      "layers.26.post_attention_layernorm.weight torch.Size([4096])\n",
      "layers.27.self_attn.q_proj.weight torch.Size([4096, 4096])\n",
      "layers.27.self_attn.k_proj.weight torch.Size([4096, 4096])\n",
      "layers.27.self_attn.v_proj.weight torch.Size([4096, 4096])\n",
      "layers.27.self_attn.o_proj.weight torch.Size([4096, 4096])\n",
      "layers.27.mlp.gate_proj.weight torch.Size([11008, 4096])\n",
      "layers.27.mlp.up_proj.weight torch.Size([11008, 4096])\n",
      "layers.27.mlp.down_proj.weight torch.Size([4096, 11008])\n",
      "layers.27.input_layernorm.weight torch.Size([4096])\n",
      "layers.27.post_attention_layernorm.weight torch.Size([4096])\n",
      "layers.28.self_attn.q_proj.weight torch.Size([4096, 4096])\n",
      "layers.28.self_attn.k_proj.weight torch.Size([4096, 4096])\n",
      "layers.28.self_attn.v_proj.weight torch.Size([4096, 4096])\n",
      "layers.28.self_attn.o_proj.weight torch.Size([4096, 4096])\n",
      "layers.28.mlp.gate_proj.weight torch.Size([11008, 4096])\n",
      "layers.28.mlp.up_proj.weight torch.Size([11008, 4096])\n",
      "layers.28.mlp.down_proj.weight torch.Size([4096, 11008])\n",
      "layers.28.input_layernorm.weight torch.Size([4096])\n",
      "layers.28.post_attention_layernorm.weight torch.Size([4096])\n",
      "layers.29.self_attn.q_proj.weight torch.Size([4096, 4096])\n",
      "layers.29.self_attn.k_proj.weight torch.Size([4096, 4096])\n",
      "layers.29.self_attn.v_proj.weight torch.Size([4096, 4096])\n",
      "layers.29.self_attn.o_proj.weight torch.Size([4096, 4096])\n",
      "layers.29.mlp.gate_proj.weight torch.Size([11008, 4096])\n",
      "layers.29.mlp.up_proj.weight torch.Size([11008, 4096])\n",
      "layers.29.mlp.down_proj.weight torch.Size([4096, 11008])\n",
      "layers.29.input_layernorm.weight torch.Size([4096])\n",
      "layers.29.post_attention_layernorm.weight torch.Size([4096])\n",
      "layers.30.self_attn.q_proj.weight torch.Size([4096, 4096])\n",
      "layers.30.self_attn.k_proj.weight torch.Size([4096, 4096])\n",
      "layers.30.self_attn.v_proj.weight torch.Size([4096, 4096])\n",
      "layers.30.self_attn.o_proj.weight torch.Size([4096, 4096])\n",
      "layers.30.mlp.gate_proj.weight torch.Size([11008, 4096])\n",
      "layers.30.mlp.up_proj.weight torch.Size([11008, 4096])\n",
      "layers.30.mlp.down_proj.weight torch.Size([4096, 11008])\n",
      "layers.30.input_layernorm.weight torch.Size([4096])\n",
      "layers.30.post_attention_layernorm.weight torch.Size([4096])\n",
      "layers.31.self_attn.q_proj.weight torch.Size([4096, 4096])\n",
      "layers.31.self_attn.k_proj.weight torch.Size([4096, 4096])\n",
      "layers.31.self_attn.v_proj.weight torch.Size([4096, 4096])\n",
      "layers.31.self_attn.o_proj.weight torch.Size([4096, 4096])\n",
      "layers.31.mlp.gate_proj.weight torch.Size([11008, 4096])\n",
      "layers.31.mlp.up_proj.weight torch.Size([11008, 4096])\n",
      "layers.31.mlp.down_proj.weight torch.Size([4096, 11008])\n",
      "layers.31.input_layernorm.weight torch.Size([4096])\n",
      "layers.31.post_attention_layernorm.weight torch.Size([4096])\n",
      "norm.weight torch.Size([4096])\n"
     ]
    }
   ],
   "source": [
    "llama_sd = llama_hf.state_dict()\n",
    "\n",
    "for k, v in llama_sd.items():\n",
    "    print(k, v.shape)"
   ]
  },
  {
   "cell_type": "code",
   "execution_count": 2,
   "metadata": {},
   "outputs": [
    {
     "name": "stdout",
     "output_type": "stream",
     "text": [
      "model.embed_tokens.weight torch.Size([32000, 4096])\n",
      "model.layers.0.self_attn.q_proj.weight torch.Size([4096, 4096])\n",
      "model.layers.0.self_attn.k_proj.weight torch.Size([4096, 4096])\n",
      "model.layers.0.self_attn.v_proj.weight torch.Size([4096, 4096])\n",
      "model.layers.0.self_attn.o_proj.weight torch.Size([4096, 4096])\n",
      "model.layers.0.mlp.gate_proj.weight torch.Size([11008, 4096])\n",
      "model.layers.0.mlp.up_proj.weight torch.Size([11008, 4096])\n",
      "model.layers.0.mlp.down_proj.weight torch.Size([4096, 11008])\n",
      "model.layers.0.input_layernorm.weight torch.Size([4096])\n",
      "model.layers.0.post_attention_layernorm.weight torch.Size([4096])\n",
      "model.layers.1.self_attn.q_proj.weight torch.Size([4096, 4096])\n",
      "model.layers.1.self_attn.k_proj.weight torch.Size([4096, 4096])\n",
      "model.layers.1.self_attn.v_proj.weight torch.Size([4096, 4096])\n",
      "model.layers.1.self_attn.o_proj.weight torch.Size([4096, 4096])\n",
      "model.layers.1.mlp.gate_proj.weight torch.Size([11008, 4096])\n",
      "model.layers.1.mlp.up_proj.weight torch.Size([11008, 4096])\n",
      "model.layers.1.mlp.down_proj.weight torch.Size([4096, 11008])\n",
      "model.layers.1.input_layernorm.weight torch.Size([4096])\n",
      "model.layers.1.post_attention_layernorm.weight torch.Size([4096])\n",
      "model.layers.2.self_attn.q_proj.weight torch.Size([4096, 4096])\n",
      "model.layers.2.self_attn.k_proj.weight torch.Size([4096, 4096])\n",
      "model.layers.2.self_attn.v_proj.weight torch.Size([4096, 4096])\n",
      "model.layers.2.self_attn.o_proj.weight torch.Size([4096, 4096])\n",
      "model.layers.2.mlp.gate_proj.weight torch.Size([11008, 4096])\n",
      "model.layers.2.mlp.up_proj.weight torch.Size([11008, 4096])\n",
      "model.layers.2.mlp.down_proj.weight torch.Size([4096, 11008])\n",
      "model.layers.2.input_layernorm.weight torch.Size([4096])\n",
      "model.layers.2.post_attention_layernorm.weight torch.Size([4096])\n",
      "model.layers.3.self_attn.q_proj.weight torch.Size([4096, 4096])\n",
      "model.layers.3.self_attn.k_proj.weight torch.Size([4096, 4096])\n",
      "model.layers.3.self_attn.v_proj.weight torch.Size([4096, 4096])\n",
      "model.layers.3.self_attn.o_proj.weight torch.Size([4096, 4096])\n",
      "model.layers.3.mlp.gate_proj.weight torch.Size([11008, 4096])\n",
      "model.layers.3.mlp.up_proj.weight torch.Size([11008, 4096])\n",
      "model.layers.3.mlp.down_proj.weight torch.Size([4096, 11008])\n",
      "model.layers.3.input_layernorm.weight torch.Size([4096])\n",
      "model.layers.3.post_attention_layernorm.weight torch.Size([4096])\n",
      "model.layers.4.self_attn.q_proj.weight torch.Size([4096, 4096])\n",
      "model.layers.4.self_attn.k_proj.weight torch.Size([4096, 4096])\n",
      "model.layers.4.self_attn.v_proj.weight torch.Size([4096, 4096])\n",
      "model.layers.4.self_attn.o_proj.weight torch.Size([4096, 4096])\n",
      "model.layers.4.mlp.gate_proj.weight torch.Size([11008, 4096])\n",
      "model.layers.4.mlp.up_proj.weight torch.Size([11008, 4096])\n",
      "model.layers.4.mlp.down_proj.weight torch.Size([4096, 11008])\n",
      "model.layers.4.input_layernorm.weight torch.Size([4096])\n",
      "model.layers.4.post_attention_layernorm.weight torch.Size([4096])\n",
      "model.layers.5.self_attn.q_proj.weight torch.Size([4096, 4096])\n",
      "model.layers.5.self_attn.k_proj.weight torch.Size([4096, 4096])\n",
      "model.layers.5.self_attn.v_proj.weight torch.Size([4096, 4096])\n",
      "model.layers.5.self_attn.o_proj.weight torch.Size([4096, 4096])\n",
      "model.layers.5.mlp.gate_proj.weight torch.Size([11008, 4096])\n",
      "model.layers.5.mlp.up_proj.weight torch.Size([11008, 4096])\n",
      "model.layers.5.mlp.down_proj.weight torch.Size([4096, 11008])\n",
      "model.layers.5.input_layernorm.weight torch.Size([4096])\n",
      "model.layers.5.post_attention_layernorm.weight torch.Size([4096])\n",
      "model.layers.6.self_attn.q_proj.weight torch.Size([4096, 4096])\n",
      "model.layers.6.self_attn.k_proj.weight torch.Size([4096, 4096])\n",
      "model.layers.6.self_attn.v_proj.weight torch.Size([4096, 4096])\n",
      "model.layers.6.self_attn.o_proj.weight torch.Size([4096, 4096])\n",
      "model.layers.6.mlp.gate_proj.weight torch.Size([11008, 4096])\n",
      "model.layers.6.mlp.up_proj.weight torch.Size([11008, 4096])\n",
      "model.layers.6.mlp.down_proj.weight torch.Size([4096, 11008])\n",
      "model.layers.6.input_layernorm.weight torch.Size([4096])\n",
      "model.layers.6.post_attention_layernorm.weight torch.Size([4096])\n",
      "model.layers.7.self_attn.q_proj.weight torch.Size([4096, 4096])\n",
      "model.layers.7.self_attn.k_proj.weight torch.Size([4096, 4096])\n",
      "model.layers.7.self_attn.v_proj.weight torch.Size([4096, 4096])\n",
      "model.layers.7.self_attn.o_proj.weight torch.Size([4096, 4096])\n",
      "model.layers.7.mlp.gate_proj.weight torch.Size([11008, 4096])\n",
      "model.layers.7.mlp.up_proj.weight torch.Size([11008, 4096])\n",
      "model.layers.7.mlp.down_proj.weight torch.Size([4096, 11008])\n",
      "model.layers.7.input_layernorm.weight torch.Size([4096])\n",
      "model.layers.7.post_attention_layernorm.weight torch.Size([4096])\n",
      "model.layers.8.self_attn.q_proj.weight torch.Size([4096, 4096])\n",
      "model.layers.8.self_attn.k_proj.weight torch.Size([4096, 4096])\n",
      "model.layers.8.self_attn.v_proj.weight torch.Size([4096, 4096])\n",
      "model.layers.8.self_attn.o_proj.weight torch.Size([4096, 4096])\n",
      "model.layers.8.mlp.gate_proj.weight torch.Size([11008, 4096])\n",
      "model.layers.8.mlp.up_proj.weight torch.Size([11008, 4096])\n",
      "model.layers.8.mlp.down_proj.weight torch.Size([4096, 11008])\n",
      "model.layers.8.input_layernorm.weight torch.Size([4096])\n",
      "model.layers.8.post_attention_layernorm.weight torch.Size([4096])\n",
      "model.layers.9.self_attn.q_proj.weight torch.Size([4096, 4096])\n",
      "model.layers.9.self_attn.k_proj.weight torch.Size([4096, 4096])\n",
      "model.layers.9.self_attn.v_proj.weight torch.Size([4096, 4096])\n",
      "model.layers.9.self_attn.o_proj.weight torch.Size([4096, 4096])\n",
      "model.layers.9.mlp.gate_proj.weight torch.Size([11008, 4096])\n",
      "model.layers.9.mlp.up_proj.weight torch.Size([11008, 4096])\n",
      "model.layers.9.mlp.down_proj.weight torch.Size([4096, 11008])\n",
      "model.layers.9.input_layernorm.weight torch.Size([4096])\n",
      "model.layers.9.post_attention_layernorm.weight torch.Size([4096])\n",
      "model.layers.10.self_attn.q_proj.weight torch.Size([4096, 4096])\n",
      "model.layers.10.self_attn.k_proj.weight torch.Size([4096, 4096])\n",
      "model.layers.10.self_attn.v_proj.weight torch.Size([4096, 4096])\n",
      "model.layers.10.self_attn.o_proj.weight torch.Size([4096, 4096])\n",
      "model.layers.10.mlp.gate_proj.weight torch.Size([11008, 4096])\n",
      "model.layers.10.mlp.up_proj.weight torch.Size([11008, 4096])\n",
      "model.layers.10.mlp.down_proj.weight torch.Size([4096, 11008])\n",
      "model.layers.10.input_layernorm.weight torch.Size([4096])\n",
      "model.layers.10.post_attention_layernorm.weight torch.Size([4096])\n",
      "model.layers.11.self_attn.q_proj.weight torch.Size([4096, 4096])\n",
      "model.layers.11.self_attn.k_proj.weight torch.Size([4096, 4096])\n",
      "model.layers.11.self_attn.v_proj.weight torch.Size([4096, 4096])\n",
      "model.layers.11.self_attn.o_proj.weight torch.Size([4096, 4096])\n",
      "model.layers.11.mlp.gate_proj.weight torch.Size([11008, 4096])\n",
      "model.layers.11.mlp.up_proj.weight torch.Size([11008, 4096])\n",
      "model.layers.11.mlp.down_proj.weight torch.Size([4096, 11008])\n",
      "model.layers.11.input_layernorm.weight torch.Size([4096])\n",
      "model.layers.11.post_attention_layernorm.weight torch.Size([4096])\n",
      "model.layers.12.self_attn.q_proj.weight torch.Size([4096, 4096])\n",
      "model.layers.12.self_attn.k_proj.weight torch.Size([4096, 4096])\n",
      "model.layers.12.self_attn.v_proj.weight torch.Size([4096, 4096])\n",
      "model.layers.12.self_attn.o_proj.weight torch.Size([4096, 4096])\n",
      "model.layers.12.mlp.gate_proj.weight torch.Size([11008, 4096])\n",
      "model.layers.12.mlp.up_proj.weight torch.Size([11008, 4096])\n",
      "model.layers.12.mlp.down_proj.weight torch.Size([4096, 11008])\n",
      "model.layers.12.input_layernorm.weight torch.Size([4096])\n",
      "model.layers.12.post_attention_layernorm.weight torch.Size([4096])\n",
      "model.layers.13.self_attn.q_proj.weight torch.Size([4096, 4096])\n",
      "model.layers.13.self_attn.k_proj.weight torch.Size([4096, 4096])\n",
      "model.layers.13.self_attn.v_proj.weight torch.Size([4096, 4096])\n",
      "model.layers.13.self_attn.o_proj.weight torch.Size([4096, 4096])\n",
      "model.layers.13.mlp.gate_proj.weight torch.Size([11008, 4096])\n",
      "model.layers.13.mlp.up_proj.weight torch.Size([11008, 4096])\n",
      "model.layers.13.mlp.down_proj.weight torch.Size([4096, 11008])\n",
      "model.layers.13.input_layernorm.weight torch.Size([4096])\n",
      "model.layers.13.post_attention_layernorm.weight torch.Size([4096])\n",
      "model.layers.14.self_attn.q_proj.weight torch.Size([4096, 4096])\n",
      "model.layers.14.self_attn.k_proj.weight torch.Size([4096, 4096])\n",
      "model.layers.14.self_attn.v_proj.weight torch.Size([4096, 4096])\n",
      "model.layers.14.self_attn.o_proj.weight torch.Size([4096, 4096])\n",
      "model.layers.14.mlp.gate_proj.weight torch.Size([11008, 4096])\n",
      "model.layers.14.mlp.up_proj.weight torch.Size([11008, 4096])\n",
      "model.layers.14.mlp.down_proj.weight torch.Size([4096, 11008])\n",
      "model.layers.14.input_layernorm.weight torch.Size([4096])\n",
      "model.layers.14.post_attention_layernorm.weight torch.Size([4096])\n",
      "model.layers.15.self_attn.q_proj.weight torch.Size([4096, 4096])\n",
      "model.layers.15.self_attn.k_proj.weight torch.Size([4096, 4096])\n",
      "model.layers.15.self_attn.v_proj.weight torch.Size([4096, 4096])\n",
      "model.layers.15.self_attn.o_proj.weight torch.Size([4096, 4096])\n",
      "model.layers.15.mlp.gate_proj.weight torch.Size([11008, 4096])\n",
      "model.layers.15.mlp.up_proj.weight torch.Size([11008, 4096])\n",
      "model.layers.15.mlp.down_proj.weight torch.Size([4096, 11008])\n",
      "model.layers.15.input_layernorm.weight torch.Size([4096])\n",
      "model.layers.15.post_attention_layernorm.weight torch.Size([4096])\n",
      "model.layers.16.self_attn.q_proj.weight torch.Size([4096, 4096])\n",
      "model.layers.16.self_attn.k_proj.weight torch.Size([4096, 4096])\n",
      "model.layers.16.self_attn.v_proj.weight torch.Size([4096, 4096])\n",
      "model.layers.16.self_attn.o_proj.weight torch.Size([4096, 4096])\n",
      "model.layers.16.mlp.gate_proj.weight torch.Size([11008, 4096])\n",
      "model.layers.16.mlp.up_proj.weight torch.Size([11008, 4096])\n",
      "model.layers.16.mlp.down_proj.weight torch.Size([4096, 11008])\n",
      "model.layers.16.input_layernorm.weight torch.Size([4096])\n",
      "model.layers.16.post_attention_layernorm.weight torch.Size([4096])\n",
      "model.layers.17.self_attn.q_proj.weight torch.Size([4096, 4096])\n",
      "model.layers.17.self_attn.k_proj.weight torch.Size([4096, 4096])\n",
      "model.layers.17.self_attn.v_proj.weight torch.Size([4096, 4096])\n",
      "model.layers.17.self_attn.o_proj.weight torch.Size([4096, 4096])\n",
      "model.layers.17.mlp.gate_proj.weight torch.Size([11008, 4096])\n",
      "model.layers.17.mlp.up_proj.weight torch.Size([11008, 4096])\n",
      "model.layers.17.mlp.down_proj.weight torch.Size([4096, 11008])\n",
      "model.layers.17.input_layernorm.weight torch.Size([4096])\n",
      "model.layers.17.post_attention_layernorm.weight torch.Size([4096])\n",
      "model.layers.18.self_attn.q_proj.weight torch.Size([4096, 4096])\n",
      "model.layers.18.self_attn.k_proj.weight torch.Size([4096, 4096])\n",
      "model.layers.18.self_attn.v_proj.weight torch.Size([4096, 4096])\n",
      "model.layers.18.self_attn.o_proj.weight torch.Size([4096, 4096])\n",
      "model.layers.18.mlp.gate_proj.weight torch.Size([11008, 4096])\n",
      "model.layers.18.mlp.up_proj.weight torch.Size([11008, 4096])\n",
      "model.layers.18.mlp.down_proj.weight torch.Size([4096, 11008])\n",
      "model.layers.18.input_layernorm.weight torch.Size([4096])\n",
      "model.layers.18.post_attention_layernorm.weight torch.Size([4096])\n",
      "model.layers.19.self_attn.q_proj.weight torch.Size([4096, 4096])\n",
      "model.layers.19.self_attn.k_proj.weight torch.Size([4096, 4096])\n",
      "model.layers.19.self_attn.v_proj.weight torch.Size([4096, 4096])\n",
      "model.layers.19.self_attn.o_proj.weight torch.Size([4096, 4096])\n",
      "model.layers.19.mlp.gate_proj.weight torch.Size([11008, 4096])\n",
      "model.layers.19.mlp.up_proj.weight torch.Size([11008, 4096])\n",
      "model.layers.19.mlp.down_proj.weight torch.Size([4096, 11008])\n",
      "model.layers.19.input_layernorm.weight torch.Size([4096])\n",
      "model.layers.19.post_attention_layernorm.weight torch.Size([4096])\n",
      "model.layers.20.self_attn.q_proj.weight torch.Size([4096, 4096])\n",
      "model.layers.20.self_attn.k_proj.weight torch.Size([4096, 4096])\n",
      "model.layers.20.self_attn.v_proj.weight torch.Size([4096, 4096])\n",
      "model.layers.20.self_attn.o_proj.weight torch.Size([4096, 4096])\n",
      "model.layers.20.mlp.gate_proj.weight torch.Size([11008, 4096])\n",
      "model.layers.20.mlp.up_proj.weight torch.Size([11008, 4096])\n",
      "model.layers.20.mlp.down_proj.weight torch.Size([4096, 11008])\n",
      "model.layers.20.input_layernorm.weight torch.Size([4096])\n",
      "model.layers.20.post_attention_layernorm.weight torch.Size([4096])\n",
      "model.layers.21.self_attn.q_proj.weight torch.Size([4096, 4096])\n",
      "model.layers.21.self_attn.k_proj.weight torch.Size([4096, 4096])\n",
      "model.layers.21.self_attn.v_proj.weight torch.Size([4096, 4096])\n",
      "model.layers.21.self_attn.o_proj.weight torch.Size([4096, 4096])\n",
      "model.layers.21.mlp.gate_proj.weight torch.Size([11008, 4096])\n",
      "model.layers.21.mlp.up_proj.weight torch.Size([11008, 4096])\n",
      "model.layers.21.mlp.down_proj.weight torch.Size([4096, 11008])\n",
      "model.layers.21.input_layernorm.weight torch.Size([4096])\n",
      "model.layers.21.post_attention_layernorm.weight torch.Size([4096])\n",
      "model.layers.22.self_attn.q_proj.weight torch.Size([4096, 4096])\n",
      "model.layers.22.self_attn.k_proj.weight torch.Size([4096, 4096])\n",
      "model.layers.22.self_attn.v_proj.weight torch.Size([4096, 4096])\n",
      "model.layers.22.self_attn.o_proj.weight torch.Size([4096, 4096])\n",
      "model.layers.22.mlp.gate_proj.weight torch.Size([11008, 4096])\n",
      "model.layers.22.mlp.up_proj.weight torch.Size([11008, 4096])\n",
      "model.layers.22.mlp.down_proj.weight torch.Size([4096, 11008])\n",
      "model.layers.22.input_layernorm.weight torch.Size([4096])\n",
      "model.layers.22.post_attention_layernorm.weight torch.Size([4096])\n",
      "model.layers.23.self_attn.q_proj.weight torch.Size([4096, 4096])\n",
      "model.layers.23.self_attn.k_proj.weight torch.Size([4096, 4096])\n",
      "model.layers.23.self_attn.v_proj.weight torch.Size([4096, 4096])\n",
      "model.layers.23.self_attn.o_proj.weight torch.Size([4096, 4096])\n",
      "model.layers.23.mlp.gate_proj.weight torch.Size([11008, 4096])\n",
      "model.layers.23.mlp.up_proj.weight torch.Size([11008, 4096])\n",
      "model.layers.23.mlp.down_proj.weight torch.Size([4096, 11008])\n",
      "model.layers.23.input_layernorm.weight torch.Size([4096])\n",
      "model.layers.23.post_attention_layernorm.weight torch.Size([4096])\n",
      "model.layers.24.self_attn.q_proj.weight torch.Size([4096, 4096])\n",
      "model.layers.24.self_attn.k_proj.weight torch.Size([4096, 4096])\n",
      "model.layers.24.self_attn.v_proj.weight torch.Size([4096, 4096])\n",
      "model.layers.24.self_attn.o_proj.weight torch.Size([4096, 4096])\n",
      "model.layers.24.mlp.gate_proj.weight torch.Size([11008, 4096])\n",
      "model.layers.24.mlp.up_proj.weight torch.Size([11008, 4096])\n",
      "model.layers.24.mlp.down_proj.weight torch.Size([4096, 11008])\n",
      "model.layers.24.input_layernorm.weight torch.Size([4096])\n",
      "model.layers.24.post_attention_layernorm.weight torch.Size([4096])\n",
      "model.layers.25.self_attn.q_proj.weight torch.Size([4096, 4096])\n",
      "model.layers.25.self_attn.k_proj.weight torch.Size([4096, 4096])\n",
      "model.layers.25.self_attn.v_proj.weight torch.Size([4096, 4096])\n",
      "model.layers.25.self_attn.o_proj.weight torch.Size([4096, 4096])\n",
      "model.layers.25.mlp.gate_proj.weight torch.Size([11008, 4096])\n",
      "model.layers.25.mlp.up_proj.weight torch.Size([11008, 4096])\n",
      "model.layers.25.mlp.down_proj.weight torch.Size([4096, 11008])\n",
      "model.layers.25.input_layernorm.weight torch.Size([4096])\n",
      "model.layers.25.post_attention_layernorm.weight torch.Size([4096])\n",
      "model.layers.26.self_attn.q_proj.weight torch.Size([4096, 4096])\n",
      "model.layers.26.self_attn.k_proj.weight torch.Size([4096, 4096])\n",
      "model.layers.26.self_attn.v_proj.weight torch.Size([4096, 4096])\n",
      "model.layers.26.self_attn.o_proj.weight torch.Size([4096, 4096])\n",
      "model.layers.26.mlp.gate_proj.weight torch.Size([11008, 4096])\n",
      "model.layers.26.mlp.up_proj.weight torch.Size([11008, 4096])\n",
      "model.layers.26.mlp.down_proj.weight torch.Size([4096, 11008])\n",
      "model.layers.26.input_layernorm.weight torch.Size([4096])\n",
      "model.layers.26.post_attention_layernorm.weight torch.Size([4096])\n",
      "model.layers.27.self_attn.q_proj.weight torch.Size([4096, 4096])\n",
      "model.layers.27.self_attn.k_proj.weight torch.Size([4096, 4096])\n",
      "model.layers.27.self_attn.v_proj.weight torch.Size([4096, 4096])\n",
      "model.layers.27.self_attn.o_proj.weight torch.Size([4096, 4096])\n",
      "model.layers.27.mlp.gate_proj.weight torch.Size([11008, 4096])\n",
      "model.layers.27.mlp.up_proj.weight torch.Size([11008, 4096])\n",
      "model.layers.27.mlp.down_proj.weight torch.Size([4096, 11008])\n",
      "model.layers.27.input_layernorm.weight torch.Size([4096])\n",
      "model.layers.27.post_attention_layernorm.weight torch.Size([4096])\n",
      "model.layers.28.self_attn.q_proj.weight torch.Size([4096, 4096])\n",
      "model.layers.28.self_attn.k_proj.weight torch.Size([4096, 4096])\n",
      "model.layers.28.self_attn.v_proj.weight torch.Size([4096, 4096])\n",
      "model.layers.28.self_attn.o_proj.weight torch.Size([4096, 4096])\n",
      "model.layers.28.mlp.gate_proj.weight torch.Size([11008, 4096])\n",
      "model.layers.28.mlp.up_proj.weight torch.Size([11008, 4096])\n",
      "model.layers.28.mlp.down_proj.weight torch.Size([4096, 11008])\n",
      "model.layers.28.input_layernorm.weight torch.Size([4096])\n",
      "model.layers.28.post_attention_layernorm.weight torch.Size([4096])\n",
      "model.layers.29.self_attn.q_proj.weight torch.Size([4096, 4096])\n",
      "model.layers.29.self_attn.k_proj.weight torch.Size([4096, 4096])\n",
      "model.layers.29.self_attn.v_proj.weight torch.Size([4096, 4096])\n",
      "model.layers.29.self_attn.o_proj.weight torch.Size([4096, 4096])\n",
      "model.layers.29.mlp.gate_proj.weight torch.Size([11008, 4096])\n",
      "model.layers.29.mlp.up_proj.weight torch.Size([11008, 4096])\n",
      "model.layers.29.mlp.down_proj.weight torch.Size([4096, 11008])\n",
      "model.layers.29.input_layernorm.weight torch.Size([4096])\n",
      "model.layers.29.post_attention_layernorm.weight torch.Size([4096])\n",
      "model.layers.30.self_attn.q_proj.weight torch.Size([4096, 4096])\n",
      "model.layers.30.self_attn.k_proj.weight torch.Size([4096, 4096])\n",
      "model.layers.30.self_attn.v_proj.weight torch.Size([4096, 4096])\n",
      "model.layers.30.self_attn.o_proj.weight torch.Size([4096, 4096])\n",
      "model.layers.30.mlp.gate_proj.weight torch.Size([11008, 4096])\n",
      "model.layers.30.mlp.up_proj.weight torch.Size([11008, 4096])\n",
      "model.layers.30.mlp.down_proj.weight torch.Size([4096, 11008])\n",
      "model.layers.30.input_layernorm.weight torch.Size([4096])\n",
      "model.layers.30.post_attention_layernorm.weight torch.Size([4096])\n",
      "model.layers.31.self_attn.q_proj.weight torch.Size([4096, 4096])\n",
      "model.layers.31.self_attn.k_proj.weight torch.Size([4096, 4096])\n",
      "model.layers.31.self_attn.v_proj.weight torch.Size([4096, 4096])\n",
      "model.layers.31.self_attn.o_proj.weight torch.Size([4096, 4096])\n",
      "model.layers.31.mlp.gate_proj.weight torch.Size([11008, 4096])\n",
      "model.layers.31.mlp.up_proj.weight torch.Size([11008, 4096])\n",
      "model.layers.31.mlp.down_proj.weight torch.Size([4096, 11008])\n",
      "model.layers.31.input_layernorm.weight torch.Size([4096])\n",
      "model.layers.31.post_attention_layernorm.weight torch.Size([4096])\n",
      "model.norm.weight torch.Size([4096])\n",
      "lm_head.weight torch.Size([32000, 4096])\n"
     ]
    }
   ],
   "source": [
    "llama_causal_sd = llama_causallm.state_dict()\n",
    "\n",
    "for k, v in llama_causal_sd.items():\n",
    "    print(k, v.shape)"
   ]
  },
  {
   "cell_type": "code",
   "execution_count": 10,
   "metadata": {},
   "outputs": [
    {
     "data": {
      "text/plain": [
       "{'input_ids': [[0, 0, 0, 0, 0, 0, 1, 7251, 727], [1, 298, 2963, 6940, 272, 920, 526, 366, 9826]], 'attention_mask': [[0, 0, 0, 0, 0, 0, 1, 1, 1], [1, 1, 1, 1, 1, 1, 1, 1, 1]]}"
      ]
     },
     "execution_count": 10,
     "metadata": {},
     "output_type": "execute_result"
    }
   ],
   "source": [
    "import torch\n",
    "\n",
    "tok_text = llamatok([\n",
    "    \"hi there\",\n",
    "    \"hola senor how are you today\"\n",
    "], padding=True)\n",
    "tok_text"
   ]
  },
  {
   "cell_type": "code",
   "execution_count": 11,
   "metadata": {},
   "outputs": [
    {
     "data": {
      "text/plain": [
       "torch.Size([2, 9])"
      ]
     },
     "execution_count": 11,
     "metadata": {},
     "output_type": "execute_result"
    }
   ],
   "source": [
    "torch.tensor(tok_text['input_ids']).shape"
   ]
  },
  {
   "cell_type": "code",
   "execution_count": 12,
   "metadata": {},
   "outputs": [
    {
     "data": {
      "text/plain": [
       "tensor([[    0,     0,     0,     0,     0,     0,     1,  7251,   727,  7251,\n",
       "           727,  7251,   727,  7251],\n",
       "        [    1,   298,  2963,  6940,   272,   920,   526,   366,  9826,    13,\n",
       "         29902, 29915, 29885,  2599]])"
      ]
     },
     "execution_count": 12,
     "metadata": {},
     "output_type": "execute_result"
    }
   ],
   "source": [
    "llama_causallm.generate(torch.tensor(tok_text['input_ids']), max_new_tokens=5)"
   ]
  },
  {
   "cell_type": "code",
   "execution_count": 23,
   "metadata": {},
   "outputs": [],
   "source": [
    "import torch\n",
    "import torch.nn as nn\n",
    "from dataclasses import dataclass\n",
    "\n",
    "@dataclass\n",
    "class LlamaConfig:\n",
    "    vocab: int = 32_000\n",
    "    n_embd: int = 8\n",
    "    intermediate_size: int = 11008\n",
    "    \n",
    "    n_layers: int = 32\n",
    "    n_heads: int = 4\n",
    "    n_kv_heads: int = 2\n",
    "\n",
    "    batch_size: int = 2\n",
    "    ctx_len: int = 3\n",
    "\n",
    "config = LlamaConfig"
   ]
  },
  {
   "cell_type": "code",
   "execution_count": 24,
   "metadata": {},
   "outputs": [
    {
     "data": {
      "text/plain": [
       "tensor([[1, 0, 0],\n",
       "        [1, 1, 0],\n",
       "        [1, 1, 1]])"
      ]
     },
     "execution_count": 24,
     "metadata": {},
     "output_type": "execute_result"
    }
   ],
   "source": [
    "tril = torch.tril(torch.ones((config.ctx_len, config.ctx_len), dtype=torch.long))\n",
    "tril"
   ]
  },
  {
   "cell_type": "code",
   "execution_count": 25,
   "metadata": {},
   "outputs": [
    {
     "data": {
      "text/plain": [
       "torch.Size([3, 3])"
      ]
     },
     "execution_count": 25,
     "metadata": {},
     "output_type": "execute_result"
    }
   ],
   "source": [
    "tril.shape"
   ]
  },
  {
   "cell_type": "code",
   "execution_count": 59,
   "metadata": {},
   "outputs": [],
   "source": [
    "q = nn.Linear(config.n_embd, config.n_embd)\n",
    "k = nn.Linear(config.n_embd, config.n_embd)"
   ]
  },
  {
   "cell_type": "code",
   "execution_count": 53,
   "metadata": {},
   "outputs": [
    {
     "data": {
      "text/plain": [
       "torch.Size([2, 3, 8])"
      ]
     },
     "execution_count": 53,
     "metadata": {},
     "output_type": "execute_result"
    }
   ],
   "source": [
    "x = torch.rand((config.batch_size, config.ctx_len, config.n_embd))\n",
    "x.shape"
   ]
  },
  {
   "cell_type": "code",
   "execution_count": 54,
   "metadata": {},
   "outputs": [
    {
     "name": "stdout",
     "output_type": "stream",
     "text": [
      "torch.Size([2, 3, 8])\n",
      "torch.Size([2, 4, 3, 2])\n"
     ]
    }
   ],
   "source": [
    "B, T, C = x.shape\n",
    "query = q(x)\n",
    "print(query.shape)\n",
    "\n",
    "query = query.view(B, T, config.n_heads, C // config.n_heads).transpose(1, 2)\n",
    "print(query.shape)"
   ]
  },
  {
   "cell_type": "code",
   "execution_count": 58,
   "metadata": {},
   "outputs": [
    {
     "data": {
      "text/plain": [
       "tensor([[[[[-0.6331,  0.6262],\n",
       "           [-0.1049,  0.4341],\n",
       "           [-0.3236,  0.3640]],\n",
       "\n",
       "          [[ 0.4240, -0.0697],\n",
       "           [ 0.2945, -0.1620],\n",
       "           [-0.0332, -0.1282]]],\n",
       "\n",
       "\n",
       "         [[[ 0.2726,  0.0698],\n",
       "           [ 0.5509, -0.0648],\n",
       "           [ 0.3931, -0.1777]],\n",
       "\n",
       "          [[ 0.0319,  0.6081],\n",
       "           [-0.0959,  0.5124],\n",
       "           [-0.1237,  0.7668]]]],\n",
       "\n",
       "\n",
       "\n",
       "        [[[[-0.1491,  0.4938],\n",
       "           [-0.1628,  0.2734],\n",
       "           [-0.2886,  0.4039]],\n",
       "\n",
       "          [[-0.1964,  0.3093],\n",
       "           [ 0.0710,  0.0148],\n",
       "           [-0.2560,  0.3555]]],\n",
       "\n",
       "\n",
       "         [[[ 0.2366,  0.0188],\n",
       "           [ 0.5626, -0.2082],\n",
       "           [ 0.2074,  0.0888]],\n",
       "\n",
       "          [[ 0.3507,  0.5721],\n",
       "           [ 0.0201,  0.4847],\n",
       "           [ 0.4706,  0.6150]]]]], grad_fn=<ViewBackward0>)"
      ]
     },
     "execution_count": 58,
     "metadata": {},
     "output_type": "execute_result"
    }
   ],
   "source": [
    "# k = k.unsqueeze(1).expand(-1, self.num_heads // self.kv_heads, -1, -1, -1)  # (B, n_heads // kv_heads, kv_heads, T, kv_head_dim)\n",
    "query"
   ]
  },
  {
   "cell_type": "code",
   "execution_count": 56,
   "metadata": {},
   "outputs": [
    {
     "name": "stdout",
     "output_type": "stream",
     "text": [
      "torch.Size([2, 2, 2, 3, 2])\n"
     ]
    }
   ],
   "source": [
    "query = query.view(B, config.n_heads // config.n_kv_heads, config.n_kv_heads, T, C // config.n_heads)\n",
    "print(query.shape)"
   ]
  },
  {
   "cell_type": "code",
   "execution_count": 57,
   "metadata": {},
   "outputs": [
    {
     "data": {
      "text/plain": [
       "tensor([[[[-0.6331,  0.6262],\n",
       "          [-0.1049,  0.4341],\n",
       "          [-0.3236,  0.3640]],\n",
       "\n",
       "         [[ 0.4240, -0.0697],\n",
       "          [ 0.2945, -0.1620],\n",
       "          [-0.0332, -0.1282]]],\n",
       "\n",
       "\n",
       "        [[[ 0.2726,  0.0698],\n",
       "          [ 0.5509, -0.0648],\n",
       "          [ 0.3931, -0.1777]],\n",
       "\n",
       "         [[ 0.0319,  0.6081],\n",
       "          [-0.0959,  0.5124],\n",
       "          [-0.1237,  0.7668]]]], grad_fn=<SelectBackward0>)"
      ]
     },
     "execution_count": 57,
     "metadata": {},
     "output_type": "execute_result"
    }
   ],
   "source": [
    "query[0]"
   ]
  },
  {
   "cell_type": "code",
   "execution_count": 69,
   "metadata": {},
   "outputs": [
    {
     "name": "stdout",
     "output_type": "stream",
     "text": [
      "torch.Size([2, 3, 8])\n",
      "torch.Size([2, 2, 3, 4])\n"
     ]
    }
   ],
   "source": [
    "key = k(x)\n",
    "print(key.shape)\n",
    "key = key.view(B, T, config.n_kv_heads, C // config.n_kv_heads).transpose(1, 2)\n",
    "print(key.shape)"
   ]
  },
  {
   "cell_type": "code",
   "execution_count": 70,
   "metadata": {},
   "outputs": [
    {
     "name": "stdout",
     "output_type": "stream",
     "text": [
      "tensor([[[[-0.1733, -0.1279,  0.1068,  0.4391],\n",
      "          [-0.2818,  0.2603, -0.1590,  0.4544],\n",
      "          [-0.2071,  0.0117, -0.1461,  0.4070]],\n",
      "\n",
      "         [[ 0.1569, -0.0777,  0.1505,  0.3660],\n",
      "          [ 0.4668, -0.2868,  0.3001,  0.1590],\n",
      "          [ 0.3735, -0.0797,  0.3620,  0.1053]]],\n",
      "\n",
      "\n",
      "        [[[ 0.0860, -0.1571, -0.3969,  0.4523],\n",
      "          [-0.1444,  0.0679, -0.1109,  0.4496],\n",
      "          [ 0.0957, -0.1687, -0.3900,  0.4769]],\n",
      "\n",
      "         [[ 0.3522, -0.2438,  0.3827,  0.1023],\n",
      "          [ 0.5150, -0.3657,  0.4548,  0.3809],\n",
      "          [ 0.2946, -0.2785,  0.4773,  0.1715]]]],\n",
      "       grad_fn=<TransposeBackward0>)\n",
      "torch.Size([2, 1, 2, 3, 4])\n"
     ]
    }
   ],
   "source": [
    "print(key)\n",
    "key = key.unsqueeze(1)\n",
    "print(key.shape)"
   ]
  },
  {
   "cell_type": "code",
   "execution_count": 67,
   "metadata": {},
   "outputs": [
    {
     "name": "stdout",
     "output_type": "stream",
     "text": [
      "torch.Size([2, 2, 2, 3, 4])\n"
     ]
    }
   ],
   "source": [
    "key = key.expand(-1, config.n_heads // config.n_kv_heads, -1, -1 , -1)\n",
    "print(key.shape)"
   ]
  },
  {
   "cell_type": "code",
   "execution_count": 68,
   "metadata": {},
   "outputs": [
    {
     "data": {
      "text/plain": [
       "tensor([[[[[-0.1733, -0.1279,  0.1068,  0.4391],\n",
       "           [-0.2818,  0.2603, -0.1590,  0.4544],\n",
       "           [-0.2071,  0.0117, -0.1461,  0.4070]],\n",
       "\n",
       "          [[ 0.1569, -0.0777,  0.1505,  0.3660],\n",
       "           [ 0.4668, -0.2868,  0.3001,  0.1590],\n",
       "           [ 0.3735, -0.0797,  0.3620,  0.1053]]],\n",
       "\n",
       "\n",
       "         [[[-0.1733, -0.1279,  0.1068,  0.4391],\n",
       "           [-0.2818,  0.2603, -0.1590,  0.4544],\n",
       "           [-0.2071,  0.0117, -0.1461,  0.4070]],\n",
       "\n",
       "          [[ 0.1569, -0.0777,  0.1505,  0.3660],\n",
       "           [ 0.4668, -0.2868,  0.3001,  0.1590],\n",
       "           [ 0.3735, -0.0797,  0.3620,  0.1053]]]],\n",
       "\n",
       "\n",
       "\n",
       "        [[[[ 0.0860, -0.1571, -0.3969,  0.4523],\n",
       "           [-0.1444,  0.0679, -0.1109,  0.4496],\n",
       "           [ 0.0957, -0.1687, -0.3900,  0.4769]],\n",
       "\n",
       "          [[ 0.3522, -0.2438,  0.3827,  0.1023],\n",
       "           [ 0.5150, -0.3657,  0.4548,  0.3809],\n",
       "           [ 0.2946, -0.2785,  0.4773,  0.1715]]],\n",
       "\n",
       "\n",
       "         [[[ 0.0860, -0.1571, -0.3969,  0.4523],\n",
       "           [-0.1444,  0.0679, -0.1109,  0.4496],\n",
       "           [ 0.0957, -0.1687, -0.3900,  0.4769]],\n",
       "\n",
       "          [[ 0.3522, -0.2438,  0.3827,  0.1023],\n",
       "           [ 0.5150, -0.3657,  0.4548,  0.3809],\n",
       "           [ 0.2946, -0.2785,  0.4773,  0.1715]]]]], grad_fn=<ExpandBackward0>)"
      ]
     },
     "execution_count": 68,
     "metadata": {},
     "output_type": "execute_result"
    }
   ],
   "source": [
    "key"
   ]
  },
  {
   "cell_type": "code",
   "execution_count": 2,
   "metadata": {},
   "outputs": [
    {
     "data": {
      "text/plain": [
       "(tensor([[1, 2, 3],\n",
       "         [4, 5, 6]]),\n",
       " tensor([2, 4, 6]))"
      ]
     },
     "execution_count": 2,
     "metadata": {},
     "output_type": "execute_result"
    }
   ],
   "source": [
    "import torch\n",
    "\n",
    "x = torch.arange(1,7).reshape(2, 3)\n",
    "y = torch.arange(2, 7, 2)\n",
    "x, y"
   ]
  },
  {
   "cell_type": "code",
   "execution_count": 3,
   "metadata": {},
   "outputs": [
    {
     "data": {
      "text/plain": [
       "tensor([28, 64])"
      ]
     },
     "execution_count": 3,
     "metadata": {},
     "output_type": "execute_result"
    }
   ],
   "source": [
    "torch.einsum('bt,t->b', [x, y])"
   ]
  },
  {
   "cell_type": "code",
   "execution_count": 4,
   "metadata": {},
   "outputs": [
    {
     "data": {
      "text/plain": [
       "tensor([0, 1, 2, 3, 4, 5])"
      ]
     },
     "execution_count": 4,
     "metadata": {},
     "output_type": "execute_result"
    }
   ],
   "source": [
    "from einops import rearrange, reduce, repeat\n",
    "g = torch.arange(6)\n",
    "g"
   ]
  },
  {
   "cell_type": "code",
   "execution_count": 22,
   "metadata": {},
   "outputs": [
    {
     "name": "stdout",
     "output_type": "stream",
     "text": [
      "tensor([[ 6,  7,  8],\n",
      "        [ 9, 10, 11]])\n",
      "tensor([[0, 1, 2],\n",
      "        [3, 4, 5]])\n"
     ]
    },
    {
     "data": {
      "text/plain": [
       "tensor([[ 23,  86],\n",
       "        [ 32, 122]])"
      ]
     },
     "execution_count": 22,
     "metadata": {},
     "output_type": "execute_result"
    }
   ],
   "source": [
    "x = torch.arange(6,12).reshape(2, 3)\n",
    "y = torch.arange(6).reshape(2, 3)\n",
    "print(x)\n",
    "print(y)\n",
    "torch.einsum('ij, kj ->ik', [x, y])"
   ]
  },
  {
   "cell_type": "code",
   "execution_count": 23,
   "metadata": {},
   "outputs": [
    {
     "data": {
      "text/plain": [
       "tensor([[ 23,  32],\n",
       "        [ 86, 122]])"
      ]
     },
     "execution_count": 23,
     "metadata": {},
     "output_type": "execute_result"
    }
   ],
   "source": [
    "torch.einsum('ij, kj ->ki', [x, y])"
   ]
  },
  {
   "cell_type": "code",
   "execution_count": 24,
   "metadata": {},
   "outputs": [
    {
     "data": {
      "text/plain": [
       "tensor(263)"
      ]
     },
     "execution_count": 24,
     "metadata": {},
     "output_type": "execute_result"
    }
   ],
   "source": [
    "torch.einsum('ij, kj ->', [x, y])"
   ]
  },
  {
   "cell_type": "code",
   "execution_count": 25,
   "metadata": {},
   "outputs": [
    {
     "data": {
      "text/plain": [
       "tensor(145)"
      ]
     },
     "execution_count": 25,
     "metadata": {},
     "output_type": "execute_result"
    }
   ],
   "source": [
    "torch.einsum('ij, ij ->', [x, y])"
   ]
  },
  {
   "cell_type": "code",
   "execution_count": 26,
   "metadata": {},
   "outputs": [
    {
     "data": {
      "text/plain": [
       "tensor([[ 0,  7, 16],\n",
       "        [27, 40, 55]])"
      ]
     },
     "execution_count": 26,
     "metadata": {},
     "output_type": "execute_result"
    }
   ],
   "source": [
    "torch.einsum('ij, ij ->ij', [x, y])"
   ]
  },
  {
   "cell_type": "code",
   "execution_count": 7,
   "metadata": {},
   "outputs": [
    {
     "data": {
      "text/plain": [
       "tensor([[0, 0, 0, 0],\n",
       "        [0, 1, 2, 3],\n",
       "        [0, 2, 4, 6]])"
      ]
     },
     "execution_count": 7,
     "metadata": {},
     "output_type": "execute_result"
    }
   ],
   "source": [
    "torch.einsum('i, j -> ij', [x, y])"
   ]
  },
  {
   "cell_type": "code",
   "execution_count": 19,
   "metadata": {},
   "outputs": [
    {
     "ename": "RuntimeError",
     "evalue": "einsum(): the number of subscripts in the equation (1) does not match the number of dimensions (2) for operand 0 and no ellipsis was given",
     "output_type": "error",
     "traceback": [
      "\u001b[0;31m---------------------------------------------------------------------------\u001b[0m",
      "\u001b[0;31mRuntimeError\u001b[0m                              Traceback (most recent call last)",
      "Cell \u001b[0;32mIn[19], line 1\u001b[0m\n\u001b[0;32m----> 1\u001b[0m \u001b[43mtorch\u001b[49m\u001b[38;5;241;43m.\u001b[39;49m\u001b[43meinsum\u001b[49m\u001b[43m(\u001b[49m\u001b[38;5;124;43m'\u001b[39;49m\u001b[38;5;124;43mi, j -> ji\u001b[39;49m\u001b[38;5;124;43m'\u001b[39;49m\u001b[43m,\u001b[49m\u001b[43m \u001b[49m\u001b[43m[\u001b[49m\u001b[43mx\u001b[49m\u001b[43m,\u001b[49m\u001b[43m \u001b[49m\u001b[43my\u001b[49m\u001b[43m]\u001b[49m\u001b[43m)\u001b[49m\n",
      "File \u001b[0;32m~/Repos/NNs-from-scratch/.venv/lib/python3.11/site-packages/torch/functional.py:381\u001b[0m, in \u001b[0;36meinsum\u001b[0;34m(*args)\u001b[0m\n\u001b[1;32m    378\u001b[0m     _operands \u001b[38;5;241m=\u001b[39m operands[\u001b[38;5;241m0\u001b[39m]\n\u001b[1;32m    379\u001b[0m     \u001b[38;5;66;03m# recurse incase operands contains value that has torch function\u001b[39;00m\n\u001b[1;32m    380\u001b[0m     \u001b[38;5;66;03m# in the original implementation this line is omitted\u001b[39;00m\n\u001b[0;32m--> 381\u001b[0m     \u001b[38;5;28;01mreturn\u001b[39;00m \u001b[43meinsum\u001b[49m\u001b[43m(\u001b[49m\u001b[43mequation\u001b[49m\u001b[43m,\u001b[49m\u001b[43m \u001b[49m\u001b[38;5;241;43m*\u001b[39;49m\u001b[43m_operands\u001b[49m\u001b[43m)\u001b[49m\n\u001b[1;32m    383\u001b[0m \u001b[38;5;28;01mif\u001b[39;00m \u001b[38;5;28mlen\u001b[39m(operands) \u001b[38;5;241m<\u001b[39m\u001b[38;5;241m=\u001b[39m \u001b[38;5;241m2\u001b[39m \u001b[38;5;129;01mor\u001b[39;00m \u001b[38;5;129;01mnot\u001b[39;00m opt_einsum\u001b[38;5;241m.\u001b[39menabled:\n\u001b[1;32m    384\u001b[0m     \u001b[38;5;66;03m# the path for contracting 0 or 1 time(s) is already optimized\u001b[39;00m\n\u001b[1;32m    385\u001b[0m     \u001b[38;5;66;03m# or the user has disabled using opt_einsum\u001b[39;00m\n\u001b[1;32m    386\u001b[0m     \u001b[38;5;28;01mreturn\u001b[39;00m _VF\u001b[38;5;241m.\u001b[39meinsum(equation, operands)  \u001b[38;5;66;03m# type: ignore[attr-defined]\u001b[39;00m\n",
      "File \u001b[0;32m~/Repos/NNs-from-scratch/.venv/lib/python3.11/site-packages/torch/functional.py:386\u001b[0m, in \u001b[0;36meinsum\u001b[0;34m(*args)\u001b[0m\n\u001b[1;32m    381\u001b[0m     \u001b[38;5;28;01mreturn\u001b[39;00m einsum(equation, \u001b[38;5;241m*\u001b[39m_operands)\n\u001b[1;32m    383\u001b[0m \u001b[38;5;28;01mif\u001b[39;00m \u001b[38;5;28mlen\u001b[39m(operands) \u001b[38;5;241m<\u001b[39m\u001b[38;5;241m=\u001b[39m \u001b[38;5;241m2\u001b[39m \u001b[38;5;129;01mor\u001b[39;00m \u001b[38;5;129;01mnot\u001b[39;00m opt_einsum\u001b[38;5;241m.\u001b[39menabled:\n\u001b[1;32m    384\u001b[0m     \u001b[38;5;66;03m# the path for contracting 0 or 1 time(s) is already optimized\u001b[39;00m\n\u001b[1;32m    385\u001b[0m     \u001b[38;5;66;03m# or the user has disabled using opt_einsum\u001b[39;00m\n\u001b[0;32m--> 386\u001b[0m     \u001b[38;5;28;01mreturn\u001b[39;00m \u001b[43m_VF\u001b[49m\u001b[38;5;241;43m.\u001b[39;49m\u001b[43meinsum\u001b[49m\u001b[43m(\u001b[49m\u001b[43mequation\u001b[49m\u001b[43m,\u001b[49m\u001b[43m \u001b[49m\u001b[43moperands\u001b[49m\u001b[43m)\u001b[49m  \u001b[38;5;66;03m# type: ignore[attr-defined]\u001b[39;00m\n\u001b[1;32m    388\u001b[0m path \u001b[38;5;241m=\u001b[39m \u001b[38;5;28;01mNone\u001b[39;00m\n\u001b[1;32m    389\u001b[0m \u001b[38;5;28;01mif\u001b[39;00m opt_einsum\u001b[38;5;241m.\u001b[39mis_available():\n",
      "\u001b[0;31mRuntimeError\u001b[0m: einsum(): the number of subscripts in the equation (1) does not match the number of dimensions (2) for operand 0 and no ellipsis was given"
     ]
    }
   ],
   "source": [
    "torch.einsum('i, j -> ji', [x, y])"
   ]
  },
  {
   "cell_type": "code",
   "execution_count": null,
   "metadata": {},
   "outputs": [],
   "source": []
  },
  {
   "cell_type": "markdown",
   "metadata": {},
   "source": [
    "### RoPE embeddings (LLama2 version)"
   ]
  },
  {
   "cell_type": "code",
   "execution_count": 2,
   "metadata": {},
   "outputs": [],
   "source": [
    "import torch\n",
    "device = \"cuda:0\"\n",
    "dim = 6\n",
    "seq_len = 4\n",
    "\n",
    "# Calculate the rotation frequencies for positional embeddings\n",
    "theta_numerator = torch.arange(0, dim, 2, dtype=torch.float32)\n",
    "\n",
    "# 10_000 ** (-2(i - 1)/dim) ?== 1 / 10_000 ** (theta_numerator / dim) --> How and why? where does the 2 from -2 go?\n",
    "theta = 1.0 / torch.pow(10000, theta_numerator / dim).to(device) \n"
   ]
  },
  {
   "cell_type": "code",
   "execution_count": 3,
   "metadata": {},
   "outputs": [
    {
     "data": {
      "text/plain": [
       "tensor([0., 2., 4.])"
      ]
     },
     "execution_count": 3,
     "metadata": {},
     "output_type": "execute_result"
    }
   ],
   "source": [
    "theta_numerator"
   ]
  },
  {
   "cell_type": "code",
   "execution_count": 4,
   "metadata": {},
   "outputs": [
    {
     "data": {
      "text/plain": [
       "tensor([1.0000, 0.0464, 0.0022], device='cuda:0')"
      ]
     },
     "execution_count": 4,
     "metadata": {},
     "output_type": "execute_result"
    }
   ],
   "source": [
    "theta"
   ]
  },
  {
   "cell_type": "code",
   "execution_count": 5,
   "metadata": {},
   "outputs": [],
   "source": [
    "# Generate frequency values for positional embeddings\n",
    "m = torch.arange(seq_len, dtype=torch.float32).to(device)\n",
    "freqs = torch.outer(m, theta).float()"
   ]
  },
  {
   "cell_type": "code",
   "execution_count": 6,
   "metadata": {},
   "outputs": [
    {
     "data": {
      "text/plain": [
       "True"
      ]
     },
     "execution_count": 6,
     "metadata": {},
     "output_type": "execute_result"
    }
   ],
   "source": [
    "freqs_ein = torch.einsum('i,j -> ij', [m, theta])\n",
    "freqs_ein.allclose(freqs)"
   ]
  },
  {
   "cell_type": "code",
   "execution_count": 7,
   "metadata": {},
   "outputs": [
    {
     "data": {
      "text/plain": [
       "(tensor([0., 1., 2., 3.], device='cuda:0'),\n",
       " tensor([[0.0000e+00, 0.0000e+00, 0.0000e+00],\n",
       "         [1.0000e+00, 4.6416e-02, 2.1544e-03],\n",
       "         [2.0000e+00, 9.2832e-02, 4.3089e-03],\n",
       "         [3.0000e+00, 1.3925e-01, 6.4633e-03]], device='cuda:0'))"
      ]
     },
     "execution_count": 7,
     "metadata": {},
     "output_type": "execute_result"
    }
   ],
   "source": [
    "m, freqs"
   ]
  },
  {
   "cell_type": "code",
   "execution_count": 8,
   "metadata": {},
   "outputs": [
    {
     "data": {
      "text/plain": [
       "tensor([[1., 1., 1.],\n",
       "        [1., 1., 1.],\n",
       "        [1., 1., 1.],\n",
       "        [1., 1., 1.]], device='cuda:0')"
      ]
     },
     "execution_count": 8,
     "metadata": {},
     "output_type": "execute_result"
    }
   ],
   "source": [
    "torch.ones_like(freqs)"
   ]
  },
  {
   "cell_type": "code",
   "execution_count": 9,
   "metadata": {},
   "outputs": [
    {
     "data": {
      "text/plain": [
       "tensor([[ 1.0000+0.0000j,  1.0000+0.0000j,  1.0000+0.0000j],\n",
       "        [ 0.5403+0.8415j,  0.9989+0.0464j,  1.0000+0.0022j],\n",
       "        [-0.4161+0.9093j,  0.9957+0.0927j,  1.0000+0.0043j],\n",
       "        [-0.9900+0.1411j,  0.9903+0.1388j,  1.0000+0.0065j]], device='cuda:0')"
      ]
     },
     "execution_count": 9,
     "metadata": {},
     "output_type": "execute_result"
    }
   ],
   "source": [
    "# Convert frequency values to complex numbers (polar form)\n",
    "freqs_complex = torch.polar(torch.ones_like(freqs), freqs)\n",
    "freqs_complex"
   ]
  },
  {
   "cell_type": "code",
   "execution_count": 14,
   "metadata": {},
   "outputs": [
    {
     "name": "stdout",
     "output_type": "stream",
     "text": [
      "torch.Size([1, 4, 6])\n",
      "tensor([[[ 1.3423,  1.4161, -2.0025, -1.7465,  0.2864,  0.0080],\n",
      "         [ 0.1996, -0.7018, -0.0306,  1.2341,  0.9267,  0.1319],\n",
      "         [ 0.8582,  1.3198,  0.3466, -0.7029, -1.5371, -0.6479],\n",
      "         [-0.4696,  0.5983, -0.2232, -0.1763, -0.9025, -0.4777]]])\n"
     ]
    }
   ],
   "source": [
    "x = torch.randn((1, seq_len, dim))\n",
    "batch_size, seq_len, dim = x.shape\n",
    "print(x.shape)\n",
    "print(x)"
   ]
  },
  {
   "cell_type": "code",
   "execution_count": 57,
   "metadata": {},
   "outputs": [
    {
     "data": {
      "text/plain": [
       "torch.Size([1, 4, 3, 2])"
      ]
     },
     "execution_count": 57,
     "metadata": {},
     "output_type": "execute_result"
    }
   ],
   "source": [
    "x.float().reshape(*x.shape[:-1], -1, 2).shape"
   ]
  },
  {
   "cell_type": "code",
   "execution_count": 59,
   "metadata": {},
   "outputs": [
    {
     "data": {
      "text/plain": [
       "(tensor([[[ 1.3423+1.4161j, -2.0025-1.7465j,  0.2864+0.0080j],\n",
       "          [ 0.1996-0.7018j, -0.0306+1.2341j,  0.9267+0.1319j],\n",
       "          [ 0.8582+1.3198j,  0.3466-0.7029j, -1.5371-0.6479j],\n",
       "          [-0.4696+0.5983j, -0.2232-0.1763j, -0.9025-0.4777j]]],\n",
       "        device='cuda:0'),\n",
       " torch.Size([1, 4, 3]))"
      ]
     },
     "execution_count": 59,
     "metadata": {},
     "output_type": "execute_result"
    }
   ],
   "source": [
    "# Reshape the input into a complex tensor for rotational operations\n",
    "# (B, SeqLen, H, Head_Dim) -> (B, SeqLen, H, Head_Dim // 2)\n",
    "x_complex = torch.view_as_complex(x.float().reshape(*x.shape[:-1], -1, 2)).to(device)\n",
    "x_complex, x_complex.shape"
   ]
  },
  {
   "cell_type": "code",
   "execution_count": 70,
   "metadata": {},
   "outputs": [
    {
     "data": {
      "text/plain": [
       "(torch.Size([4, 3]),\n",
       " tensor([[ 1.0000+0.0000j,  1.0000+0.0000j,  1.0000+0.0000j],\n",
       "         [ 0.5403+0.8415j,  0.9989+0.0464j,  1.0000+0.0022j],\n",
       "         [-0.4161+0.9093j,  0.9957+0.0927j,  1.0000+0.0043j],\n",
       "         [-0.9900+0.1411j,  0.9903+0.1388j,  1.0000+0.0065j]], device='cuda:0'))"
      ]
     },
     "execution_count": 70,
     "metadata": {},
     "output_type": "execute_result"
    }
   ],
   "source": [
    "start_pos = 0\n",
    "# Extract rotational frequencies for the given sequence length and start position\n",
    "# (SeqLen, Head_Dim // 2) -> (1, SeqLen, 1, Head_Dim // 2)\n",
    "freq_complex = freqs_complex[start_pos:start_pos + seq_len]\n",
    "freq_complex_mod = freq_complex.unsqueeze(0).to(device)\n",
    "freq_complex.shape, freq_complex"
   ]
  },
  {
   "cell_type": "code",
   "execution_count": 71,
   "metadata": {},
   "outputs": [
    {
     "data": {
      "text/plain": [
       "tensor([[[ 1.0000+0.0000j,  1.0000+0.0000j,  1.0000+0.0000j],\n",
       "         [ 0.5403+0.8415j,  0.9989+0.0464j,  1.0000+0.0022j],\n",
       "         [-0.4161+0.9093j,  0.9957+0.0927j,  1.0000+0.0043j],\n",
       "         [-0.9900+0.1411j,  0.9903+0.1388j,  1.0000+0.0065j]]],\n",
       "       device='cuda:0')"
      ]
     },
     "execution_count": 71,
     "metadata": {},
     "output_type": "execute_result"
    }
   ],
   "source": [
    "freq_complex.unsqueeze(0)"
   ]
  },
  {
   "cell_type": "code",
   "execution_count": 72,
   "metadata": {},
   "outputs": [
    {
     "data": {
      "text/plain": [
       "(torch.Size([1, 4, 1, 3]), torch.Size([1, 4, 3]))"
      ]
     },
     "execution_count": 72,
     "metadata": {},
     "output_type": "execute_result"
    }
   ],
   "source": [
    "freq_complex.unsqueeze(0).unsqueeze(2).shape, x_complex.shape"
   ]
  },
  {
   "cell_type": "code",
   "execution_count": 80,
   "metadata": {},
   "outputs": [],
   "source": [
    "# Apply rotational transformation to the input using frequency values\n",
    "# (B, SeqLen, H, Head_Dim // 2) * (1, SeqLen, 1, Head_Dim // 2) -> (B, SeqLen, H, Head_Dim // 2)\n",
    "x_rotated = x_complex * freq_complex_mod"
   ]
  },
  {
   "cell_type": "code",
   "execution_count": 81,
   "metadata": {},
   "outputs": [
    {
     "data": {
      "text/plain": [
       "tensor([[[ 1.0000+0.0000j,  1.0000+0.0000j,  1.0000+0.0000j],\n",
       "         [ 0.5403+0.8415j,  0.9989+0.0464j,  1.0000+0.0022j],\n",
       "         [-0.4161+0.9093j,  0.9957+0.0927j,  1.0000+0.0043j],\n",
       "         [-0.9900+0.1411j,  0.9903+0.1388j,  1.0000+0.0065j]]],\n",
       "       device='cuda:0')"
      ]
     },
     "execution_count": 81,
     "metadata": {},
     "output_type": "execute_result"
    }
   ],
   "source": [
    "freq_complex_mod"
   ]
  },
  {
   "cell_type": "code",
   "execution_count": 83,
   "metadata": {},
   "outputs": [
    {
     "data": {
      "text/plain": [
       "tensor([[[ 1.3423+1.4161j, -2.0025-1.7465j,  0.2864+0.0080j],\n",
       "         [ 0.6984-0.2112j, -0.0879+1.2314j,  0.9264+0.1339j],\n",
       "         [-1.5572+0.2312j,  0.4103-0.6678j, -1.5343-0.6546j],\n",
       "         [ 0.3804-0.6586j, -0.1965-0.2056j, -0.8994-0.4835j]]],\n",
       "       device='cuda:0')"
      ]
     },
     "execution_count": 83,
     "metadata": {},
     "output_type": "execute_result"
    }
   ],
   "source": [
    "x_rotated"
   ]
  },
  {
   "cell_type": "code",
   "execution_count": 84,
   "metadata": {},
   "outputs": [
    {
     "data": {
      "text/plain": [
       "tensor([[[ 1.3423+1.4161j, -2.0025-1.7465j,  0.2864+0.0080j],\n",
       "         [ 0.1996-0.7018j, -0.0306+1.2341j,  0.9267+0.1319j],\n",
       "         [ 0.8582+1.3198j,  0.3466-0.7029j, -1.5371-0.6479j],\n",
       "         [-0.4696+0.5983j, -0.2232-0.1763j, -0.9025-0.4777j]]],\n",
       "       device='cuda:0')"
      ]
     },
     "execution_count": 84,
     "metadata": {},
     "output_type": "execute_result"
    }
   ],
   "source": [
    "x_complex"
   ]
  },
  {
   "cell_type": "code",
   "execution_count": 85,
   "metadata": {},
   "outputs": [
    {
     "data": {
      "text/plain": [
       "tensor([[[[ 1.3423,  1.4161],\n",
       "          [-2.0025, -1.7465],\n",
       "          [ 0.2864,  0.0080]],\n",
       "\n",
       "         [[ 0.6984, -0.2112],\n",
       "          [-0.0879,  1.2314],\n",
       "          [ 0.9264,  0.1339]],\n",
       "\n",
       "         [[-1.5572,  0.2312],\n",
       "          [ 0.4103, -0.6678],\n",
       "          [-1.5343, -0.6546]],\n",
       "\n",
       "         [[ 0.3804, -0.6586],\n",
       "          [-0.1965, -0.2056],\n",
       "          [-0.8994, -0.4835]]]], device='cuda:0')"
      ]
     },
     "execution_count": 85,
     "metadata": {},
     "output_type": "execute_result"
    }
   ],
   "source": [
    "# Convert the rotated complex tensor back to real-valued tensor\n",
    "# (B, SeqLen, H, Head_Dim // 2) -> (B, SeqLen, H , Head_Dim // 2, 2)\n",
    "x_out = torch.view_as_real(x_rotated)\n",
    "x_out"
   ]
  },
  {
   "cell_type": "code",
   "execution_count": 86,
   "metadata": {},
   "outputs": [
    {
     "data": {
      "text/plain": [
       "tensor([[[ 1.3423,  1.4161, -2.0025, -1.7465,  0.2864,  0.0080],\n",
       "         [ 0.6984, -0.2112, -0.0879,  1.2314,  0.9264,  0.1339],\n",
       "         [-1.5572,  0.2312,  0.4103, -0.6678, -1.5343, -0.6546],\n",
       "         [ 0.3804, -0.6586, -0.1965, -0.2056, -0.8994, -0.4835]]])"
      ]
     },
     "execution_count": 86,
     "metadata": {},
     "output_type": "execute_result"
    }
   ],
   "source": [
    "# Reshape to match the original input shape\n",
    "# (B, SeqLen, H , Head_Dim // 2, 2) -> (B, SeqLen, H, Head_Dim)\n",
    "x_out = x_out.reshape(*x.shape)\n",
    "x_out.type_as(x)"
   ]
  },
  {
   "cell_type": "code",
   "execution_count": 87,
   "metadata": {},
   "outputs": [
    {
     "data": {
      "text/plain": [
       "tensor([[[ 1.3423,  1.4161, -2.0025, -1.7465,  0.2864,  0.0080],\n",
       "         [ 0.1996, -0.7018, -0.0306,  1.2341,  0.9267,  0.1319],\n",
       "         [ 0.8582,  1.3198,  0.3466, -0.7029, -1.5371, -0.6479],\n",
       "         [-0.4696,  0.5983, -0.2232, -0.1763, -0.9025, -0.4777]]])"
      ]
     },
     "execution_count": 87,
     "metadata": {},
     "output_type": "execute_result"
    }
   ],
   "source": [
    "x"
   ]
  },
  {
   "cell_type": "code",
   "execution_count": 88,
   "metadata": {},
   "outputs": [
    {
     "data": {
      "text/plain": [
       "\"\\nRope Embeddings step by step:\\n Setup:\\n - make some `theta_numerator` tensor of length (hidden_dim / 2) because each theta is applied to a pair of dimensions at a time\\n - calculate thetas from the tensor above using formula: 1 / (10_000 ** (theta_numerator / hidden_dim))\\n - make a `m` tensor of size 0, seq_len to calculate the theta freqs per token along the entire seq_len(prompt)\\n - calculate `theta_freqs` by doing an outer product between `m` and `thetas` giving us a matrix of shape (m, thetas)\\n - `theta_freqs` hold the angle of rotations in radians and we will use a magnitude of 1 on it to convert it to polar coordinates complex number in the form (x+iy)\\n - the above computation gives us freqs_complex which is what we will use with the actual hidden embeddings of each token in a given batch of contexts.\\n \\n Computation:\\n - Given a user supplied matrix x with shape (batch_size, ctx_len, hidden_dim) lets compute the output with RoPE applied with `freqs_complex`.\\n - reshape the x matrix's hidden_dim to half with each consequitive pair as a tensor. so (B, T, C) -> (B, T, C//2, 2)\\n - convert the reshaped x to complex from (x+iy) using the consequitive pairs [d1, d2] -> [d1+(i*d2)]. so (B, T, C//2, 2) -> (B, T, C//2)\\n\\n\""
      ]
     },
     "execution_count": 88,
     "metadata": {},
     "output_type": "execute_result"
    }
   ],
   "source": [
    "'''\n",
    "Rope Embeddings step by step:\n",
    " Setup:\n",
    " - make some `theta_numerator` tensor of length (hidden_dim / 2) because each theta is applied to a pair of dimensions at a time\n",
    " - calculate thetas from the tensor above using formula: 1 / (10_000 ** (theta_numerator / hidden_dim))\n",
    " - make a `m` tensor of size 0, seq_len to calculate the theta freqs per token along the entire seq_len(prompt)\n",
    " - calculate `theta_freqs` by doing an outer product between `m` and `thetas` giving us a matrix of shape (m, thetas)\n",
    " - `theta_freqs` hold the angle of rotations in radians and we will use a magnitude of 1 on it to convert it to polar coordinates complex number in the form (x+iy)\n",
    " - the above computation gives us freqs_complex which is what we will use with the actual hidden embeddings of each token in a given batch of contexts.\n",
    " \n",
    " Computation:\n",
    " - Given a user supplied matrix x with shape (batch_size, ctx_len, hidden_dim) lets compute the output with RoPE applied with `freqs_complex`.\n",
    " - reshape the x matrix's hidden_dim to half with each consequitive pair as a tensor. so (B, T, C) -> (B, T, C//2, 2)\n",
    " - get `x_complex` by converting the reshaped x to complex from (x+iy) using the consequitive pairs [d1, d2] -> [d1+(i*d2)]. so (B, T, C//2, 2) -> (B, T, C//2)\n",
    " - take a subset of freqs_complex from [start_pos: start_pos+seq_len] then add a batch dimension into it to match the x matrix\n",
    " - now we can calculate `x_rotated` by doing `x_complex * freqs_complex`\n",
    " - convert back x_rotated into real numbers and reshape it into the original x.shape to return\n",
    "'''"
   ]
  },
  {
   "cell_type": "code",
   "execution_count": 60,
   "metadata": {},
   "outputs": [
    {
     "data": {
      "image/png": "[encoded data removed]",
      "text/plain": [
       "<Figure size 1200x800 with 1 Axes>"
      ]
     },
     "metadata": {},
     "output_type": "display_data"
    }
   ],
   "source": [
    "import numpy as np\n",
    "import matplotlib.pyplot as plt\n",
    "\n",
    "def calculate_thetas(dim, max_seq_len):\n",
    "    theta = 1.0 / (10000000 ** (np.arange(0, dim, 2) / dim))\n",
    "    return np.outer(np.arange(max_seq_len), theta)\n",
    "\n",
    "def rotate_embedding(embedding, freq):\n",
    "    return np.array([\n",
    "        embedding[0] * np.cos(freq) - embedding[1] * np.sin(freq),\n",
    "        embedding[1] * np.cos(freq) + embedding[0] * np.sin(freq)\n",
    "    ])\n",
    "\n",
    "# Parameters\n",
    "dim = 2\n",
    "max_seq_len = 5\n",
    "embedding = np.array([1.0, 0.5])  # Sample 2D embedding\n",
    "\n",
    "# Calculate thetas and frequencies\n",
    "thetas = calculate_thetas(dim, max_seq_len)\n",
    "freqs = thetas[:, 0]  # We only need one frequency for 2D\n",
    "\n",
    "# Create plot\n",
    "plt.figure(figsize=(12, 8))\n",
    "colors = ['r', 'g', 'b', 'c', 'm']\n",
    "\n",
    "# Plot original embedding\n",
    "plt.quiver(0, 0, embedding[0], embedding[1], angles='xy', scale_units='xy', scale=1, color='k', label='Original')\n",
    "\n",
    "# Plot rotated embeddings for each position\n",
    "for i in range(max_seq_len):\n",
    "    rotated = rotate_embedding(embedding, freqs[i])\n",
    "    plt.quiver(0, 0, rotated[0], rotated[1], angles='xy', scale_units='xy', scale=1, color=colors[i], label=f'Position {i}')\n",
    "\n",
    "plt.xlim(-1.5, 1.5)\n",
    "plt.ylim(-1.5, 1.5)\n",
    "plt.axhline(y=0, color='k', linestyle='--')\n",
    "plt.axvline(x=0, color='k', linestyle='--')\n",
    "plt.title(\"Rotation of Embedding Vector Across Positions\")\n",
    "plt.legend()\n",
    "plt.grid(True)\n",
    "plt.show()"
   ]
  },
  {
   "cell_type": "code",
   "execution_count": null,
   "metadata": {},
   "outputs": [],
   "source": []
  },
  {
   "cell_type": "markdown",
   "metadata": {},
   "source": [
    "# GQA and KV Cahce exploration"
   ]
  },
  {
   "cell_type": "code",
   "execution_count": 42,
   "metadata": {},
   "outputs": [
    {
     "data": {
      "text/plain": [
       "tensor([[[-1.5204,  1.5813, -0.8119, -0.1980, -1.0543, -0.3699,  0.4805,\n",
       "           1.6361, -0.3640, -0.9520, -0.7434, -0.1114, -0.7222, -0.5762,\n",
       "          -1.4665,  1.8727],\n",
       "         [-0.0794,  0.0806, -0.3277, -1.4001,  1.9050,  1.4422, -0.6071,\n",
       "          -0.7129,  0.7474, -0.3518,  0.6445, -0.6842, -0.9471,  0.0410,\n",
       "           0.4453, -1.1886],\n",
       "         [-1.0257,  1.2542,  1.1221,  1.2400, -1.2828, -2.0284, -0.9213,\n",
       "           0.3568,  0.1994, -0.2210,  0.9318,  2.3968, -0.4180,  0.3691,\n",
       "          -1.6963,  0.7842]]])"
      ]
     },
     "execution_count": 42,
     "metadata": {},
     "output_type": "execute_result"
    }
   ],
   "source": [
    "import torch\n",
    "import torch.nn as nn\n",
    "\n",
    "B, T, C = 1, 3, 16\n",
    "n_h = 8\n",
    "n_kv = 4\n",
    "head_dim = C // n_h\n",
    "\n",
    "\n",
    "x = torch.randn(B, T, C)\n",
    "x"
   ]
  },
  {
   "cell_type": "code",
   "execution_count": 43,
   "metadata": {},
   "outputs": [
    {
     "data": {
      "text/plain": [
       "2"
      ]
     },
     "execution_count": 43,
     "metadata": {},
     "output_type": "execute_result"
    }
   ],
   "source": [
    "head_dim"
   ]
  },
  {
   "cell_type": "code",
   "execution_count": 44,
   "metadata": {},
   "outputs": [],
   "source": [
    "q_proj = nn.Linear(C, n_h * head_dim)\n",
    "k_proj = nn.Linear(C, n_kv * head_dim)\n",
    "v_proj = nn.Linear(C, n_kv * head_dim)"
   ]
  },
  {
   "cell_type": "code",
   "execution_count": 45,
   "metadata": {},
   "outputs": [
    {
     "data": {
      "text/plain": [
       "(torch.Size([1, 3, 16]), torch.Size([1, 3, 8]), torch.Size([1, 3, 8]))"
      ]
     },
     "execution_count": 45,
     "metadata": {},
     "output_type": "execute_result"
    }
   ],
   "source": [
    "\n",
    "x_query = q_proj(x)\n",
    "x_key = k_proj(x)\n",
    "x_val = v_proj(x)\n",
    "\n",
    "x_query.shape, x_key.shape, x_val.shape"
   ]
  },
  {
   "cell_type": "code",
   "execution_count": 46,
   "metadata": {},
   "outputs": [],
   "source": [
    "query = x_query.view(B, T, n_h, C // n_h).transpose(1, 2)\n",
    "key = x_key.view(B, T, n_kv, C // n_h).transpose(1, 2)\n",
    "val = x_val.view(B, T, n_kv, C // n_h).transpose(1, 2)"
   ]
  },
  {
   "cell_type": "code",
   "execution_count": 47,
   "metadata": {},
   "outputs": [
    {
     "data": {
      "text/plain": [
       "(torch.Size([1, 8, 3, 2]), torch.Size([1, 4, 3, 2]), torch.Size([1, 4, 3, 2]))"
      ]
     },
     "execution_count": 47,
     "metadata": {},
     "output_type": "execute_result"
    }
   ],
   "source": [
    "query.shape, key.shape, val.shape"
   ]
  },
  {
   "cell_type": "code",
   "execution_count": 48,
   "metadata": {},
   "outputs": [
    {
     "data": {
      "text/plain": [
       "(torch.Size([1, 2, 4, 3, 2]),\n",
       " torch.Size([1, 2, 4, 3, 2]),\n",
       " torch.Size([1, 2, 4, 3, 2]))"
      ]
     },
     "execution_count": 48,
     "metadata": {},
     "output_type": "execute_result"
    }
   ],
   "source": [
    "query_exp = query.view(B, n_h // n_kv, n_kv, T, head_dim)\n",
    "key_exp = key.unsqueeze(1).expand(-1, n_h // n_kv, -1, -1, -1)\n",
    "val_exp = val.unsqueeze(1).expand(-1, n_h // n_kv, -1, -1, -1)\n",
    "query_exp.shape, key_exp.shape, val_exp.shape"
   ]
  },
  {
   "cell_type": "code",
   "execution_count": 49,
   "metadata": {},
   "outputs": [],
   "source": [
    "import math\n",
    "\n",
    "wei = torch.einsum('bahtd, bahTd -> bahtT', [query_exp, key_exp]) / math.sqrt(n_h)"
   ]
  },
  {
   "cell_type": "code",
   "execution_count": 50,
   "metadata": {},
   "outputs": [
    {
     "data": {
      "text/plain": [
       "torch.Size([1, 2, 4, 3, 3])"
      ]
     },
     "execution_count": 50,
     "metadata": {},
     "output_type": "execute_result"
    }
   ],
   "source": [
    "wei.shape"
   ]
  },
  {
   "cell_type": "code",
   "execution_count": 51,
   "metadata": {},
   "outputs": [],
   "source": [
    "out = torch.einsum('bahtT, bahTd -> bahtd', [wei, val_exp])"
   ]
  },
  {
   "cell_type": "code",
   "execution_count": 53,
   "metadata": {},
   "outputs": [
    {
     "data": {
      "text/plain": [
       "torch.Size([1, 2, 4, 3, 2])"
      ]
     },
     "execution_count": 53,
     "metadata": {},
     "output_type": "execute_result"
    }
   ],
   "source": [
    "out.shape"
   ]
  },
  {
   "cell_type": "code",
   "execution_count": 56,
   "metadata": {},
   "outputs": [
    {
     "data": {
      "text/plain": [
       "tensor([[[[-0.0054, -0.0083,  0.0849,  0.2444, -0.0853,  0.1332,  0.0249,\n",
       "           -0.0093],\n",
       "          [ 0.0153, -0.0295,  0.0314,  0.0922,  0.1231, -0.1507,  0.1991,\n",
       "           -0.0557],\n",
       "          [-0.0393,  0.0497, -0.0048, -0.0675, -0.3809,  0.4593,  0.0375,\n",
       "           -0.0170]],\n",
       "\n",
       "         [[-0.0242,  0.0314, -0.0780, -0.2936, -0.4152,  0.4652,  0.4303,\n",
       "           -0.1305],\n",
       "          [ 0.0419, -0.0538,  0.0267,  0.2599,  0.1954, -0.1702, -0.6121,\n",
       "            0.1822],\n",
       "          [-0.0528,  0.0742, -0.0721, -0.4597, -0.0354,  0.0726,  0.9044,\n",
       "           -0.2717]]]], grad_fn=<ViewBackward0>)"
      ]
     },
     "execution_count": 56,
     "metadata": {},
     "output_type": "execute_result"
    }
   ],
   "source": [
    "out.transpose(2, 3).contiguous().view(B, n_h // n_kv, T, n_kv * head_dim)"
   ]
  },
  {
   "cell_type": "code",
   "execution_count": 13,
   "metadata": {},
   "outputs": [],
   "source": [
    "import torch\n",
    "from transformers import AutoTokenizer\n",
    "\n",
    "tokenizer = AutoTokenizer.from_pretrained(\"NousResearch/Llama-2-7b-hf\")\n",
    "\n",
    "prompts = [\n",
    "    \"I am a student\",\n",
    "    \"When is the bus getting here\",\n",
    "    \"Would it be great if it was sunny?\",\n",
    "    \"I am therefore I am\",\n",
    "    \"I am not therefore I am not\"\n",
    "]\n",
    "\n",
    "prompt_toks = [tokenizer(i, add_special_tokens=False)['input_ids'] for i in prompts]"
   ]
  },
  {
   "cell_type": "code",
   "execution_count": 14,
   "metadata": {},
   "outputs": [
    {
     "data": {
      "text/plain": [
       "[[306, 626, 263, 8368],\n",
       " [1932, 338, 278, 3593, 2805, 1244],\n",
       " [10878, 372, 367, 2107, 565, 372, 471, 6575, 1460, 29973],\n",
       " [306, 626, 5480, 306, 626],\n",
       " [306, 626, 451, 5480, 306, 626, 451]]"
      ]
     },
     "execution_count": 14,
     "metadata": {},
     "output_type": "execute_result"
    }
   ],
   "source": [
    "prompt_toks"
   ]
  },
  {
   "cell_type": "code",
   "execution_count": 15,
   "metadata": {},
   "outputs": [
    {
     "data": {
      "text/plain": [
       "[10878, 372, 367, 2107, 565, 372, 471, 6575, 1460, 29973]"
      ]
     },
     "execution_count": 15,
     "metadata": {},
     "output_type": "execute_result"
    }
   ],
   "source": [
    "max(prompt_toks, key=lambda x: len(x))"
   ]
  },
  {
   "cell_type": "code",
   "execution_count": null,
   "metadata": {},
   "outputs": [],
   "source": []
  }
 ],
 "metadata": {
  "kernelspec": {
   "display_name": ".venv",
   "language": "python",
   "name": "python3"
  },
  "language_info": {
   "codemirror_mode": {
    "name": "ipython",
    "version": 3
   },
   "file_extension": ".py",
   "mimetype": "text/x-python",
   "name": "python",
   "nbconvert_exporter": "python",
   "pygments_lexer": "ipython3",
   "version": "3.11.9"
  }
 },
 "nbformat": 4,
 "nbformat_minor": 2
}
